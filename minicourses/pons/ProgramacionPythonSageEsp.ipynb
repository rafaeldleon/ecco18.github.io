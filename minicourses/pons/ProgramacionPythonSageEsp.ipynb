{
 "cells": [
  {
   "cell_type": "markdown",
   "metadata": {},
   "source": [
    "$$\n",
    "\\def\\CC{\\bf C}\n",
    "\\def\\QQ{\\bf Q}\n",
    "\\def\\RR{\\bf R}\n",
    "\\def\\ZZ{\\bf Z}\n",
    "\\def\\NN{\\bf N}\n",
    "$$\n",
    "# Tutorial: Programación en Python y Sage\n",
    "\n",
    "*Autores: Florent Hivert &lt; [florent . hivert @ univ-rouen . fr](mailto:florent.hivert%40univ-rouen.fr) &gt;, Franco Saliola &lt; [saliola @ gmail . com](mailto:saliola%40gmail.com) &gt;, et al.*\n",
    "\n",
    "Este tutorial es una introducción a la programación básica en Python y Sage, dirigido a lectores con conocimientos elementales de programación pero no familiarizados con el lenguaje de Python. No es un tutorial completo. Un tutorial más completo es el [Tutorial de Python](http://docs.python.org/release/2.6.4/tutorial/index.html). La [documentación](http://docs.python.org/release/2.6.4/) de Python, y en particular la [librería estándar](http://docs.python.org/release/2.6.4/library), pueden ser también de utilidad.\n",
    "\n",
    "This tutorial is an introduction to basic programming in Python and Sage, for readers with elementary notions of programming but not familiar with the Python language. It is far from exhaustive. For a more complete tutorial, have a look at the [Python Tutorial](http://docs.python.org/release/2.6.4/tutorial/index.html). Also Python’s [documentation](http://docs.python.org/release/2.6.4/) and in particular the [standard library](http://docs.python.org/release/2.6.4/library) can be useful.\n",
    "\n",
    "Un [tutorial más avanzado](http://doc.sagemath.org/html/en/thematic_tutorials/tutorial-objects-and-classes.html) presenta las nociones de objetos y clases en Python.\n",
    "\n",
    "Los siguientes son otros recursos para aprender Python:\n",
    "\n",
    "-   [Learn Python in 10 minutes](http://www.korokithakis.net/tutorials/python) , o en francés [Python en 10 minutes](http://mat.oxyg3n.org/index.php?post/2009/07/26/Python-en-10-minutes)\n",
    "-   [Dive into Python](http://diveintopython.net/) es un libro sobre Python para programadores experimentados. También está disponible en [otros lenguajes](http://diveintopython.net/#languages) .\n",
    "-   [Discover Python](http://www.ibm.com/developerworks/views/opensource/libraryview.jsp?search_by=Discover+Python+Part%7C) es una serie de artículos publicados en el centro de recursos técnicos [developerWorks](http://www.ibm.com/developerworks/) de IBM.\n",
    "\n",
    "## Estructuras de datos\n",
    "\n",
    "En Python, la asignación de tipos es dinámica; no hay declaración de variables como tal. La funcion `type()`devuelve el tipo de un objeto `obj`. Para convertir un objeto a un tipo `typ` escriba `typ(obj)` asi como en `int(\"123\")`. El comando `isinstance(ex,   typ)` devuelve `True` si la expresión `ex` es del tipo `typ` y `False` de lo contrario. Más específicamente, todo valor es una *instancia de una clase* , y no hay diferencias entre clases y tipos.\n",
    "\n",
    "El símbolo `=` denota la asignación de valores a variables; no se debe confundir con ,`==` que denota igualdad matemática. La desigualdad se denota `!=`.\n",
    "\n",
    "Los *tipos estándar* son `bool`, `int`, `list`, `` `tuple `` &lt;<https://docs.python.org/library/functions.html#tuple>&gt;$_, $$set$$, $$dict$$, $$str$$.\n",
    "\n",
    "-  El tipo `bool` ( *booleano* ) tiene dos valores: `True` y `False`. Las operaciones booleanas se denotan por sus nombres `or y``not`.\n",
    "\n",
    "-   Los tipos `int` y `long` de Python son usados para representar números enteros de tamaño limitado. Para manejar enteros arbitrariamente grandes con aritmética exacta, Sage usa su propio tipo, llamado `` `Integer `` &lt;../reference/rings\\_standard/sage/rings/integer.html\\#sage.rings.integer.Integer&gt;\\`\\_.\n",
    "\n",
    "-   Una *lista* ( *list* ) es una estructura de datos que agrupa valores. Se construye usando corchetes como en `[1,   3,   4]`. La función `` `range() `` &lt;<https://docs.python.org/library/functions.html#range>&gt;\\`\\_ crea listas de enteros. También es posible crear listas usando *comprensiones de listas:* `[  for  in  (if ) ]`. Por ejemplo: "
   ]
  },
  {
   "cell_type": "code",
   "execution_count": null,
   "metadata": {
    "collapsed": false
   },
   "outputs": [],
   "source": [
    "[ i^2 for i in range(10) if i % 2 == 0 ]"
   ]
  },
  {
   "cell_type": "markdown",
   "metadata": {},
   "source": [
    "-   Una tupla ( *tuple)* es muy similar a una lista; se construye usando paréntesis. La lista vacía se denota mediante `()` o mediante la construcción `` `tuple `` &lt;<https://docs.python.org/library/functions.html#tuple>&gt;$_. Si una tupla tiene un solo elemento, se debe escribir $$(a,)$\\`. Una tupla es *inmutable* (no se puede cambiar) pero es *enumerable* *(hashable* - ver abajo). También es posible crear tuplas usando comprensiones de listas:"
   ]
  },
  {
   "cell_type": "code",
   "execution_count": null,
   "metadata": {
    "collapsed": false
   },
   "outputs": [],
   "source": [
    "tuple(i^2 for i in range(10) if i % 2 == 0)"
   ]
  },
  {
   "cell_type": "markdown",
   "metadata": {},
   "source": [
    "Un *conjunto* ( *set)* es una estructura de datos que contiene valores sin multiplicidad u orden. Se crea a partir de una lista (o cualquier iterable) con el constructor `set` . Los elementos de un conjunto deben ser enumerables (hashable):"
   ]
  },
  {
   "cell_type": "code",
   "execution_count": null,
   "metadata": {
    "collapsed": true
   },
   "outputs": [],
   "source": [
    "set([2,2,1,4,5])"
   ]
  },
  {
   "cell_type": "code",
   "execution_count": null,
   "metadata": {
    "collapsed": true
   },
   "outputs": [],
   "source": [
    "set([ [1], [2] ])"
   ]
  },
  {
   "cell_type": "markdown",
   "metadata": {},
   "source": [
    "-   Un *diccionario* ( *dictionary)* es una tabla de asociaciones, que asocia valores a claves. Las claves deben ser enumerables (hashable). Se crean los diccionarios usando el constructor `dict`, o usando la sintaxis:"
   ]
  },
  {
   "cell_type": "code",
   "execution_count": null,
   "metadata": {
    "collapsed": true
   },
   "outputs": [],
   "source": [
    "{ clave1 : valor1, clave2 : valor2 ...} "
   ]
  },
  {
   "cell_type": "markdown",
   "metadata": {},
   "source": [
    "Por ejemplo:"
   ]
  },
  {
   "cell_type": "code",
   "execution_count": null,
   "metadata": {
    "collapsed": false
   },
   "outputs": [],
   "source": [
    "age = {'toto' : 8, 'mom' : 27}; age"
   ]
  },
  {
   "cell_type": "markdown",
   "metadata": {},
   "source": [
    "-   Las comillas (simples `'   '` o dobles `\"   \"`) delimitan cadenas de caracteres. Se pueden concatenar usando `\\+`.\n",
    "-   Para listas, tuplas, cadenas y diccionarios, el *operador de indexado* se escribe `l[i]`. También es posible sacar \" *tajadas* \" ( *slices* )de listas, tuplas y cadenas, `l[:]`, `l[:b]`, `l[a:]`, or `l[a:b]`. Indices negativos empiezan por el final.\n",
    "-   La función ``len() `` https://docs.python.org/library/functions.html#len devuelve el numbero de elementos de una lista, tupla, conjunto, cadena o diccionario.Se escribe `x   in   C` para verificar si `x` está en `C`.\n",
    "-   Por último, hay un valor especial para denotar la ausencia de un valor llamado `None.`\n",
    "\n",
    "## Estructuras de control\n",
    "\n",
    "En Python no hay delimitador para el comienzo y el final de un bloque de instrucciones. Los bloques son delimitados solamente mediante sangrías (indentation). Por lo general un bloque nuevo se introduce mediante `:`. Python posee las siguientes estructuras de control:\n",
    "\n",
    "-   Instrucción condicional"
   ]
  },
  {
   "cell_type": "code",
   "execution_count": null,
   "metadata": {
    "collapsed": true
   },
   "outputs": [],
   "source": [
    "a = 1"
   ]
  },
  {
   "cell_type": "code",
   "execution_count": null,
   "metadata": {
    "collapsed": false
   },
   "outputs": [],
   "source": [
    "if a == 1:\n",
    "    print \"yes\""
   ]
  },
  {
   "cell_type": "code",
   "execution_count": null,
   "metadata": {
    "collapsed": false
   },
   "outputs": [],
   "source": [
    "if a == 2:\n",
    "    print \"no\"\n",
    "else:\n",
    "    print \"yes\""
   ]
  },
  {
   "cell_type": "code",
   "execution_count": null,
   "metadata": {
    "collapsed": false
   },
   "outputs": [],
   "source": [
    "if a == 2:\n",
    "    print \"no\"\n",
    "elif a == 1:\n",
    "    print \"yes\"\n",
    "else:\n",
    "    print \"no\""
   ]
  },
  {
   "cell_type": "markdown",
   "metadata": {},
   "source": [
    "-   Instrucciones iterativas:"
   ]
  },
  {
   "cell_type": "code",
   "execution_count": null,
   "metadata": {
    "collapsed": true
   },
   "outputs": [],
   "source": [
    "l = [1,2,3,4,5]"
   ]
  },
  {
   "cell_type": "code",
   "execution_count": null,
   "metadata": {
    "collapsed": false
   },
   "outputs": [],
   "source": [
    "for v in l:\n",
    "    print v"
   ]
  },
  {
   "cell_type": "code",
   "execution_count": null,
   "metadata": {
    "collapsed": false
   },
   "outputs": [],
   "source": [
    "i = 1\n",
    "while i < 500:\n",
    "    print i\n",
    "    i = i*2"
   ]
  },
  {
   "cell_type": "markdown",
   "metadata": {},
   "source": [
    "-   En un bucle, `continue` salta a la siguiente iteración.\n",
    "-   Un iterable es un objeto sobre el cual se puede iterar. Algunos tipos iterables son listas, tuplas, diccionarios y cadenas."
   ]
  },
  {
   "cell_type": "markdown",
   "metadata": {},
   "source": [
    "## Funciones\n",
    "\n",
    "### Nota: funciones de Python vs. funciones matemáticas\n",
    "\n",
    "En lo que sigue trabajaremos con funciones en el sentido de lenguajes de la programación. Las funciones matemáticas, así como se manipulan en cálculo, son manejadas por Sage en una forma diferente. En particular, no tiene sentido hacer manipulaciones matemáticas como la adición o la diferenciación en funciones de Python.\n",
    "\n",
    "Se define una función usando la llave `def` :"
   ]
  },
  {
   "cell_type": "code",
   "execution_count": null,
   "metadata": {
    "collapsed": true
   },
   "outputs": [],
   "source": [
    "def myfunction(a):\n",
    "    return a*a"
   ]
  },
  {
   "cell_type": "code",
   "execution_count": null,
   "metadata": {
    "collapsed": false
   },
   "outputs": [],
   "source": [
    "myfunction(4)"
   ]
  },
  {
   "cell_type": "markdown",
   "metadata": {},
   "source": [
    "El resultado de una función se genera mediante la instrucción `return`. Las funciones muy cortas pueden crearse anónimamente, usando `lambda` (observe que no hay instrucción `return`):"
   ]
  },
  {
   "cell_type": "code",
   "execution_count": null,
   "metadata": {
    "collapsed": true
   },
   "outputs": [],
   "source": [
    "myfunction = lambda x: x*x "
   ]
  },
  {
   "cell_type": "code",
   "execution_count": null,
   "metadata": {
    "collapsed": false
   },
   "outputs": [],
   "source": [
    "myfunction(4)"
   ]
  },
  {
   "cell_type": "markdown",
   "metadata": {},
   "source": [
    "### Nota: programación funcional\n",
    "\n",
    "Las funciones son objectos como cualquier otro. se pueden asignar a variables o devolver en una definicion. Para detalles vea el tutorial sobre [Functional Programming for Mathematicians](http://doc.sagemath.org/html/en/thematic_tutorials/functional_programming.html).\n",
    "\n",
    "## Ejercicios\n",
    "\n",
    "### Listas\n",
    "\n",
    "### Creación de listas I: \\[corchetes cuadrados\\]\n",
    "\n",
    "**Ejemplo:**"
   ]
  },
  {
   "cell_type": "code",
   "execution_count": null,
   "metadata": {
    "collapsed": true
   },
   "outputs": [],
   "source": [
    "L = [3, Permutation([5,1,4,2,3]), 17, 17, 3, 51]\n",
    "L"
   ]
  },
  {
   "cell_type": "markdown",
   "metadata": {},
   "source": [
    "**Ejercicio**: \n",
    "Cree la lista `[63,12,−10,\"a\",12]`, asígnela a la variable  `L` e imprímala"
   ]
  },
  {
   "cell_type": "code",
   "execution_count": null,
   "metadata": {
    "collapsed": true
   },
   "outputs": [],
   "source": [
    "# editar aquí"
   ]
  },
  {
   "cell_type": "markdown",
   "metadata": {},
   "source": [
    "**Ejercicio:** cree la lista vacía (se usa frecuentemente)"
   ]
  },
  {
   "cell_type": "code",
   "execution_count": null,
   "metadata": {
    "collapsed": true
   },
   "outputs": [],
   "source": [
    "# editar aquí "
   ]
  },
  {
   "cell_type": "markdown",
   "metadata": {},
   "source": [
    "### Creación de listas II: rango  \n",
    "\n",
    "La función ``range()`` https://docs.python.org/library/functions.html#range (rango) es una forma sencilla de construir listas de enteros. Esta es una traducción de la documentación de la función `` `range() `` https://docs.python.org/library/functions.html#range :\n",
    "\n",
    "`range([inicio,] fin[, paso])` "
   ]
  },
  {
   "cell_type": "code",
   "execution_count": null,
   "metadata": {
    "collapsed": false
   },
   "outputs": [],
   "source": [
    "range(10)"
   ]
  },
  {
   "cell_type": "code",
   "execution_count": null,
   "metadata": {
    "collapsed": false
   },
   "outputs": [],
   "source": [
    "range(3,10)"
   ]
  },
  {
   "cell_type": "code",
   "execution_count": null,
   "metadata": {
    "collapsed": false
   },
   "outputs": [],
   "source": [
    "range(4,10,2)"
   ]
  },
  {
   "cell_type": "markdown",
   "metadata": {},
   "source": [
    "Devuelve una lista que contiene una progresión aritmética de enteros.\n",
    "\n",
    "range(i,j) devuelve  $\\[i,i+1,ldots,j-1\\]$ el valor por defecto de start (!) es 0.\n",
    "\n",
    "Cuando se ingresa un valor en paso, se especifica el incremento (o decremento)\n",
    "\n",
    "Por ejemplo, range(4) devuelve  $\\[0, 1, 2, 3\\]$. El punto final es omitido!\n",
    "\n",
    "Estos números coinciden con los indices válidos para una lista de \n",
    "\n",
    "4 elementos\n",
    "\n",
    "**Ejercicio**: use `range()` https://docs.python.org/library/functions.html#range para construir la lista  $[1, \\ldots, 50]$"
   ]
  },
  {
   "cell_type": "code",
   "execution_count": null,
   "metadata": {
    "collapsed": true
   },
   "outputs": [],
   "source": [
    "# editar aquí"
   ]
  },
  {
   "cell_type": "markdown",
   "metadata": {},
   "source": [
    "**Ejercicio:** use para construir la lista de numeros enteros entre el 1 y el 100 (inclusive)"
   ]
  },
  {
   "cell_type": "code",
   "execution_count": null,
   "metadata": {
    "collapsed": true
   },
   "outputs": [],
   "source": [
    "# editar aquí"
   ]
  },
  {
   "cell_type": "markdown",
   "metadata": {},
   "source": [
    "El argumento `step` del comando`` `range() `` https://docs.python.org/library/functions.html#range puede ser negativo. Use `range()` para construir la lista $[10, 7, 4, 1, -2]$"
   ]
  },
  {
   "cell_type": "code",
   "execution_count": null,
   "metadata": {
    "collapsed": true
   },
   "outputs": [],
   "source": [
    "# editar aquí"
   ]
  },
  {
   "cell_type": "markdown",
   "metadata": {},
   "source": [
    "Ver también:\n",
    "\n",
    "-   `` `xrange() `` &lt;<https://docs.python.org/library/functions.html#xrange>&gt;\\`\\_ : devuelve un *iterador* en lugar de construir una lista.\n",
    "-   `` `srange() `` &lt;../reference/misc/sage/arith/srange.html\\#sage.arith.srange.srange&gt;\\`\\_ : similar a range pero con enteros de Sage; ver abajo.\n",
    "-   `` `xsrange() `` &lt;../reference/misc/sage/arith/srange.html\\#sage.arith.srange.xsrange&gt;\\`\\_ : similar a xrange pero con enteros de Sage.\n",
    "\n",
    "### Creación de listas III: comprensiones de listas\n",
    "\n",
    "Las *comprensiones de listas* son una forma concisa de crear listas a partir de otras listas (u otros tipos de datos).\n",
    "\n",
    "**Ejemplo**: ya sabemos como crear la lista $[1,\\ldots, 16]$ :"
   ]
  },
  {
   "cell_type": "code",
   "execution_count": null,
   "metadata": {
    "collapsed": false
   },
   "outputs": [],
   "source": [
    "range(1,17)"
   ]
  },
  {
   "cell_type": "markdown",
   "metadata": {},
   "source": [
    "Usando una comprensión de lista, a ahora podemos crear la lista $[1^2, 2^2, \\ldots , 16^2]$"
   ]
  },
  {
   "cell_type": "code",
   "execution_count": null,
   "metadata": {
    "collapsed": false
   },
   "outputs": [],
   "source": [
    "[i^2 for i in range(1,17)]"
   ]
  },
  {
   "cell_type": "code",
   "execution_count": null,
   "metadata": {
    "collapsed": false
   },
   "outputs": [],
   "source": [
    "sum([i^2 for i in range(1,17)])"
   ]
  },
  {
   "cell_type": "markdown",
   "metadata": {},
   "source": [
    "**Ejercicio**: \\[ [Projecto Euler, Problema 6](http://projecteuler.net/index.php?section=problems&id=6) \\]\n",
    "\n",
    "La suma de los primeros 10 números naturales es:\n",
    "\n",
    "$$1^2+2^2+\\ldots+10^2=385$$\n",
    "\n",
    "El cuadrado de la suma de los primeros 10 números naturales es:\n",
    "\n",
    "$$(1+2+\\ldots + 10)^2 = 3025$$\n",
    "\n",
    "La diferencia entre estos números es:\n",
    "\n",
    "$$3025-385=2640$$\n",
    "\n",
    "Encuentre la diferencia entre la suma de los cuadrados de los primeros 100 números y el cuadrado de la suma."
   ]
  },
  {
   "cell_type": "code",
   "execution_count": null,
   "metadata": {
    "collapsed": true
   },
   "outputs": [],
   "source": [
    "# editar aquí"
   ]
  },
  {
   "cell_type": "code",
   "execution_count": null,
   "metadata": {
    "collapsed": true
   },
   "outputs": [],
   "source": [
    "# editar aquí"
   ]
  },
  {
   "cell_type": "code",
   "execution_count": null,
   "metadata": {
    "collapsed": true
   },
   "outputs": [],
   "source": [
    "# editar aquí"
   ]
  },
  {
   "cell_type": "code",
   "execution_count": null,
   "metadata": {
    "collapsed": false
   },
   "outputs": [],
   "source": [
    "[p^2 for p in [1,2,..,100] if is_prime(p)]"
   ]
  },
  {
   "cell_type": "markdown",
   "metadata": {},
   "source": [
    "**Ejercicio:** Use una comprensión de lista para listar todos los números naturales menores que 20 que son múltiplos de 3 o 5. Pista:\n",
    "\n",
    "-   Para obtener el residuo de 7 dividido entre 3 use `7%3` .\n",
    "\n",
    "-   Para verificar la igualdad use dos signos igual( `==` ); por ejemplo, `3   ==   7` .\n",
    "\n",
    "[Projecto Euler, Problema 1](http://projecteuler.net/index.php?section=problems&id=1) : Encuentre la suma de todos los múltiplos de 3 o 5 menores o iguales que 1000."
   ]
  },
  {
   "cell_type": "code",
   "execution_count": null,
   "metadata": {
    "collapsed": true
   },
   "outputs": [],
   "source": [
    "# editar aquí"
   ]
  },
  {
   "cell_type": "code",
   "execution_count": null,
   "metadata": {
    "collapsed": false
   },
   "outputs": [],
   "source": [
    "[(x,y) for x in range(5) for y in range(3)]"
   ]
  },
  {
   "cell_type": "code",
   "execution_count": null,
   "metadata": {
    "collapsed": false
   },
   "outputs": [],
   "source": [
    "[[i^j for j in range(1,4)] for i in range(6)]"
   ]
  },
  {
   "cell_type": "code",
   "execution_count": null,
   "metadata": {
    "collapsed": false
   },
   "outputs": [],
   "source": [
    "matrix([[i^j for j in range(1,4)] for i in range(6)])"
   ]
  },
  {
   "cell_type": "markdown",
   "metadata": {},
   "source": [
    "**Exercise:**\n",
    "\n",
    "1.  Una tripla pitagórica es una tripla $(x,y,z)$ de enteros positivos que satisfacen $x^2+y^2=z^2$. Las triplas pitagóricas cuyos componentes son a lo sumo 10 son:\n",
    "\n",
    "$$[(3,4,5),(4,3,5),(6,8,10),(8,6,10)].$$"
   ]
  },
  {
   "cell_type": "code",
   "execution_count": null,
   "metadata": {
    "collapsed": true
   },
   "outputs": [],
   "source": [
    "# editar aquí"
   ]
  },
  {
   "cell_type": "code",
   "execution_count": null,
   "metadata": {
    "collapsed": true
   },
   "outputs": [],
   "source": [
    "# editar aquí"
   ]
  },
  {
   "cell_type": "markdown",
   "metadata": {},
   "source": [
    "-   [Projecto Euler, Problema 9](http://projecteuler.net/index.php?section=problems&id=9) : Existe exactamente una tripla pitagórica para la cual $x+y+z=1000$. Encuentre el producto $xyz$."
   ]
  },
  {
   "cell_type": "code",
   "execution_count": null,
   "metadata": {
    "collapsed": true
   },
   "outputs": [],
   "source": [
    "# editar aquí"
   ]
  },
  {
   "cell_type": "markdown",
   "metadata": {},
   "source": [
    "### Cómo acceder a los elementos individuales de una lista?\n",
    "\n",
    "Para acceder a un elemento de una lista, use la sintaxis `L[i]`, donde`i` es el índice del elemento.\n",
    "\n",
    "**Ejercicio**:\n",
    "\n",
    "-   Construya la lista `L   =   [1,2,3,4,3,5,6]` . Qué es `L[3] ?`"
   ]
  },
  {
   "cell_type": "code",
   "execution_count": null,
   "metadata": {
    "collapsed": true
   },
   "outputs": [],
   "source": [
    "# editar aquí"
   ]
  },
  {
   "cell_type": "markdown",
   "metadata": {},
   "source": [
    "-   Qué es `L[1]` `?`"
   ]
  },
  {
   "cell_type": "code",
   "execution_count": null,
   "metadata": {
    "collapsed": true
   },
   "outputs": [],
   "source": [
    "# editar aquí"
   ]
  },
  {
   "cell_type": "markdown",
   "metadata": {},
   "source": [
    "-   Cuál es el índice del primer elemento de `L` `?`"
   ]
  },
  {
   "cell_type": "code",
   "execution_count": null,
   "metadata": {
    "collapsed": true
   },
   "outputs": [],
   "source": [
    "# editar aquí"
   ]
  },
  {
   "cell_type": "markdown",
   "metadata": {},
   "source": [
    "-   Qué es `L [\\-1]` ? qué es `L [\\-2]` ?"
   ]
  },
  {
   "cell_type": "code",
   "execution_count": null,
   "metadata": {
    "collapsed": true
   },
   "outputs": [],
   "source": [
    "# editar aquí"
   ]
  },
  {
   "cell_type": "markdown",
   "metadata": {},
   "source": [
    "-   Qué es `L.index(2)` ? qué es `L.index(3)` ?"
   ]
  },
  {
   "cell_type": "code",
   "execution_count": null,
   "metadata": {
    "collapsed": true
   },
   "outputs": [],
   "source": [
    "# editar aquí"
   ]
  },
  {
   "cell_type": "markdown",
   "metadata": {},
   "source": [
    "### Modificación de listas: cambiar los elementos de una lista\n",
    "\n",
    "Para cambiar el ítem en la posición `i` de una lista `L` `:`"
   ]
  },
  {
   "cell_type": "code",
   "execution_count": null,
   "metadata": {
    "collapsed": false
   },
   "outputs": [],
   "source": [
    "L = [\"a\", 4, 1, 8]\n",
    "L"
   ]
  },
  {
   "cell_type": "code",
   "execution_count": null,
   "metadata": {
    "collapsed": false
   },
   "outputs": [],
   "source": [
    "L[2] = 0\n",
    "L"
   ]
  },
  {
   "cell_type": "markdown",
   "metadata": {},
   "source": [
    "### Modificación de listas: añadir (append), extender (extend)\n",
    "\n",
    "Para *añadir* un objeto a una lista:"
   ]
  },
  {
   "cell_type": "code",
   "execution_count": null,
   "metadata": {
    "collapsed": false
   },
   "outputs": [],
   "source": [
    "L = [\"a\", 4, 1, 8]\n",
    "L"
   ]
  },
  {
   "cell_type": "code",
   "execution_count": null,
   "metadata": {
    "collapsed": false
   },
   "outputs": [],
   "source": [
    "L.append(17)\n",
    "L"
   ]
  },
  {
   "cell_type": "markdown",
   "metadata": {},
   "source": [
    "Para *extender* una lista con otra lista:"
   ]
  },
  {
   "cell_type": "code",
   "execution_count": null,
   "metadata": {
    "collapsed": false
   },
   "outputs": [],
   "source": [
    "L1 = [1,2,3]\n",
    "L2 = [7,8,9,0]\n",
    "print L1\n",
    "print L2"
   ]
  },
  {
   "cell_type": "code",
   "execution_count": null,
   "metadata": {
    "collapsed": false
   },
   "outputs": [],
   "source": [
    "L1.extend(L2)\n",
    "L1"
   ]
  },
  {
   "cell_type": "markdown",
   "metadata": {},
   "source": [
    "### Modificación de listas: invertir (reverse), sortear (sort), ..."
   ]
  },
  {
   "cell_type": "code",
   "execution_count": null,
   "metadata": {
    "collapsed": false
   },
   "outputs": [],
   "source": [
    "L = [4,2,5,1,3]\n",
    "L"
   ]
  },
  {
   "cell_type": "code",
   "execution_count": null,
   "metadata": {
    "collapsed": false
   },
   "outputs": [],
   "source": [
    "L.reverse()\n",
    "L"
   ]
  },
  {
   "cell_type": "code",
   "execution_count": null,
   "metadata": {
    "collapsed": false
   },
   "outputs": [],
   "source": [
    "L.sort()\n",
    "L"
   ]
  },
  {
   "cell_type": "code",
   "execution_count": null,
   "metadata": {
    "collapsed": false
   },
   "outputs": [],
   "source": [
    "L = [3,1,6,4]\n",
    "sorted(L)"
   ]
  },
  {
   "cell_type": "code",
   "execution_count": null,
   "metadata": {
    "collapsed": false
   },
   "outputs": [],
   "source": [
    "L"
   ]
  },
  {
   "cell_type": "markdown",
   "metadata": {},
   "source": [
    "### Concatenación de listas\n",
    "\n",
    "Para concatenar dos listas, súmelas con el operador `\\+`. Esta no es una operación conmutativa!"
   ]
  },
  {
   "cell_type": "code",
   "execution_count": null,
   "metadata": {
    "collapsed": false
   },
   "outputs": [],
   "source": [
    "L1 = [1,2,3]\n",
    "L2 = [7,8,9,0]\n",
    "L1 + L2"
   ]
  },
  {
   "cell_type": "markdown",
   "metadata": {},
   "source": [
    "------------------------------------------------------------------------\n",
    "\n",
    "Se puede tajar una lista usando la sintaxis `L[start   :   stop   :   step]`. Esto devolverá una sublista de `L`.\n",
    "\n",
    "**Ejercicio:** A continuación hay algunos ejemplos de tajadas de listas. Intente adivinar el resultado antes de evaluar la celda:"
   ]
  },
  {
   "cell_type": "code",
   "execution_count": null,
   "metadata": {
    "collapsed": false
   },
   "outputs": [],
   "source": [
    "L = range(20)\n",
    "L"
   ]
  },
  {
   "cell_type": "code",
   "execution_count": null,
   "metadata": {
    "collapsed": false
   },
   "outputs": [],
   "source": [
    "L[3:15]"
   ]
  },
  {
   "cell_type": "code",
   "execution_count": null,
   "metadata": {
    "collapsed": false
   },
   "outputs": [],
   "source": [
    "L[3:15:2]"
   ]
  },
  {
   "cell_type": "code",
   "execution_count": null,
   "metadata": {
    "collapsed": false
   },
   "outputs": [],
   "source": [
    "L[15:3:-1]"
   ]
  },
  {
   "cell_type": "code",
   "execution_count": null,
   "metadata": {
    "collapsed": false
   },
   "outputs": [],
   "source": [
    "L[:4]"
   ]
  },
  {
   "cell_type": "code",
   "execution_count": null,
   "metadata": {
    "collapsed": false
   },
   "outputs": [],
   "source": [
    "L[:]"
   ]
  },
  {
   "cell_type": "code",
   "execution_count": null,
   "metadata": {
    "collapsed": false
   },
   "outputs": [],
   "source": [
    "L[::-1]"
   ]
  },
  {
   "cell_type": "markdown",
   "metadata": {},
   "source": [
    "**Ejercicio (Avanzado):** La siguiente función combina un bucle con algunas de las operaciónes sobre listas mencionadas hasta ahora. Qué hace la función?"
   ]
  },
  {
   "cell_type": "code",
   "execution_count": null,
   "metadata": {
    "collapsed": true
   },
   "outputs": [],
   "source": [
    "def f(number_of_iterations):\n",
    "    L = [1]\n",
    "    for n in range(2, number_of_iterations):\n",
    "        L = [sum(L[:i]) for i in range(n-1, -1, -1)]\n",
    "    return numerical_approx(2*L[0]*len(L)/sum(L), digits=50)"
   ]
  },
  {
   "cell_type": "code",
   "execution_count": null,
   "metadata": {
    "collapsed": true
   },
   "outputs": [],
   "source": [
    "# editar aquí"
   ]
  },
  {
   "cell_type": "markdown",
   "metadata": {},
   "source": [
    "## Tuplas\n",
    "\n",
    "Una *tupla* (tuple) es una lista *inmutable* . Es decir, no se puede modificar una vez se ha creado. Esto es útil para la seguridad del código, y sobre todo porque hace que las tuplas sean enumerables *hashable)* . Para crear una tupla, use paréntesis en lugar de corchetes:"
   ]
  },
  {
   "cell_type": "code",
   "execution_count": null,
   "metadata": {
    "collapsed": false
   },
   "outputs": [],
   "source": [
    "t = (3, 5, [3,1], (17,[2,3],17), 4)\n",
    "t"
   ]
  },
  {
   "cell_type": "markdown",
   "metadata": {},
   "source": [
    "Para crear una tupla con un solo elemento, se requiere una coma para eliminar la ambigüedad:"
   ]
  },
  {
   "cell_type": "code",
   "execution_count": null,
   "metadata": {
    "collapsed": false
   },
   "outputs": [],
   "source": [
    "(1)"
   ]
  },
  {
   "cell_type": "code",
   "execution_count": null,
   "metadata": {
    "collapsed": false
   },
   "outputs": [],
   "source": [
    "(1,)"
   ]
  },
  {
   "cell_type": "markdown",
   "metadata": {},
   "source": [
    "Podemos crear una tupla a partir de una lista y viceversa:"
   ]
  },
  {
   "cell_type": "code",
   "execution_count": null,
   "metadata": {
    "collapsed": false
   },
   "outputs": [],
   "source": [
    "tuple(range(5))"
   ]
  },
  {
   "cell_type": "code",
   "execution_count": null,
   "metadata": {
    "collapsed": false
   },
   "outputs": [],
   "source": [
    "list(t)"
   ]
  },
  {
   "cell_type": "markdown",
   "metadata": {},
   "source": [
    "Las tuplas se comportan como las listas en muchos respectos:\n",
    "\n",
    "| Operación             | Sintaxis para listas | Sintaxis para tuplas   |\n",
    "|-----------------------|----------------------|------------------------|\n",
    "| Acceder a un elemento | `list[3]`            | `tuple[3]`             |\n",
    "| Concatenación         | `list1   \\+   list2` | `tuple1   \\+   tuple2` |\n",
    "| Tajado                | `list[3:17:2]`       | `tuple[3:17:2]`        |\n",
    "| Copia inversa         | `list[::\\-1]`        | `tuple[::\\-1]`         |\n",
    "| Longitud              | `len(list)`          | `len(tuple)`           |\n",
    "\n",
    "No es posible modificar una tupla:"
   ]
  },
  {
   "cell_type": "code",
   "execution_count": null,
   "metadata": {
    "collapsed": false
   },
   "outputs": [],
   "source": [
    "t = (5, 'a', 6/5)\n",
    "t"
   ]
  },
  {
   "cell_type": "code",
   "execution_count": null,
   "metadata": {
    "collapsed": false
   },
   "outputs": [],
   "source": [
    "t[1] = 'b'"
   ]
  },
  {
   "cell_type": "markdown",
   "metadata": {},
   "source": [
    "## Generadores\n",
    "\n",
    "Las “comprensiones de tuplas” no existen. En lugar de eso, la sintaxis produce algo llamado un generador. Un generador permite procesar una secuencia de ítems uno a la vez. Cada ítem se crea cuando se necesita y después se elimina. Esto puede ser bastante eficiente si cada ítem debe ser usado solo una vez."
   ]
  },
  {
   "cell_type": "code",
   "execution_count": null,
   "metadata": {
    "collapsed": false
   },
   "outputs": [],
   "source": [
    "(i^2 for i in range(5))"
   ]
  },
  {
   "cell_type": "code",
   "execution_count": null,
   "metadata": {
    "collapsed": false
   },
   "outputs": [],
   "source": [
    "g = (i^2 for i in range(5))\n",
    "g[0]"
   ]
  },
  {
   "cell_type": "code",
   "execution_count": null,
   "metadata": {
    "collapsed": false
   },
   "outputs": [],
   "source": [
    "[x for x in g]"
   ]
  },
  {
   "cell_type": "markdown",
   "metadata": {},
   "source": [
    "`g` ahora está vacía."
   ]
  },
  {
   "cell_type": "code",
   "execution_count": null,
   "metadata": {
    "collapsed": false
   },
   "outputs": [],
   "source": [
    "[x for x in g]"
   ]
  },
  {
   "cell_type": "markdown",
   "metadata": {},
   "source": [
    "Un truco *pitónico* chévere es usar generadores como argumentos de funciones. No necesitamos doble paréntesis para esto."
   ]
  },
  {
   "cell_type": "code",
   "execution_count": null,
   "metadata": {
    "collapsed": false
   },
   "outputs": [],
   "source": [
    "sum( i^2 for i in srange(100001) )"
   ]
  },
  {
   "cell_type": "markdown",
   "metadata": {},
   "source": [
    "### Diccionarios\n",
    "\n",
    "Un *diccionario* es otro tipo de datos incorporado. A diferencia de las listas, que son indexadas por un rango de números que empiezan en 0, los diccionarios son indexados por llaves, que pueden ser cualquier objeto inmutable. Las cadenas de texto y los números siempre pueden usarse como llaves (porque son inmutables). En otros lenguajes de programación, a veces se llama a los diccionarios \"arreglos asociativos\"\n",
    "\n",
    "Hay varias formas de definir diccionarios. Un metodo es usando llaves (corchetes redondos), `{}`, con entradas separadas por comas escritas como *llave:valor* :"
   ]
  },
  {
   "cell_type": "code",
   "execution_count": null,
   "metadata": {
    "collapsed": false
   },
   "outputs": [],
   "source": [
    "d = {3:17, 0.5:[4,1,5,2,3], 0:\"goo\", 3/2 : 17}\n",
    "d"
   ]
  },
  {
   "cell_type": "markdown",
   "metadata": {},
   "source": [
    "Otro método es usando el constructor `dict,` que admite una lista (o cualquier iterable) de 2-tuplas *(llave, valor)* :"
   ]
  },
  {
   "cell_type": "code",
   "execution_count": null,
   "metadata": {
    "collapsed": false
   },
   "outputs": [],
   "source": [
    "dd = dict((i,i^2) for i in xrange(10))\n",
    "dd"
   ]
  },
  {
   "cell_type": "markdown",
   "metadata": {},
   "source": [
    "Los diccionarios se comportan como listas y tuplas en varias operaciones importantes.\n",
    "\n",
    "| Operación                | Sintaxis para listas | Sintaxis para diccionarios |\n",
    "|--------------------------|----------------------|----------------------------|\n",
    "| Acceder elementos        | `list[3]`            | `D[\"key\"]`                 |\n",
    "| Longitud                 | `len(list)`          | `len(D)`                   |\n",
    "| Modificación             | `L[3]   =   17`      | `D[\"key\"]   =   17`        |\n",
    "| Eliminación de elementos | `del   L[3]`         | `del   D[\"key\"]`           |"
   ]
  },
  {
   "cell_type": "code",
   "execution_count": null,
   "metadata": {
    "collapsed": false
   },
   "outputs": [],
   "source": [
    "d[10]='a'\n",
    "d"
   ]
  },
  {
   "cell_type": "markdown",
   "metadata": {},
   "source": [
    "Un diccionario puede tener el mismo valor repetido varias veces, pero cada llave debe aparecer solo una vez y debe ser inmutable:"
   ]
  },
  {
   "cell_type": "code",
   "execution_count": null,
   "metadata": {
    "collapsed": false
   },
   "outputs": [],
   "source": [
    "d = {3: 14, 4: 14}\n",
    "d"
   ]
  },
  {
   "cell_type": "code",
   "execution_count": null,
   "metadata": {
    "collapsed": false
   },
   "outputs": [],
   "source": [
    "d = {3: 13, 3: 14}\n",
    "d"
   ]
  },
  {
   "cell_type": "code",
   "execution_count": null,
   "metadata": {
    "collapsed": false
   },
   "outputs": [],
   "source": [
    "d = {[1,2,3] : 12}"
   ]
  },
  {
   "cell_type": "markdown",
   "metadata": {},
   "source": [
    "Otra forma de adicionar elementos a un diccionario es con el método `update()` , que actualiza el diccionario a partir de otro diccionario:"
   ]
  },
  {
   "cell_type": "code",
   "execution_count": null,
   "metadata": {
    "collapsed": false
   },
   "outputs": [],
   "source": [
    "d = {}\n",
    "d"
   ]
  },
  {
   "cell_type": "code",
   "execution_count": null,
   "metadata": {
    "collapsed": false
   },
   "outputs": [],
   "source": [
    "d.update({10 : 'newvalue', 20: 'newervalue', 3: 14, 0.5:[1,2,3]})\n",
    "d"
   ]
  },
  {
   "cell_type": "markdown",
   "metadata": {},
   "source": [
    "Podemos iterar sobre las llaves, los valores, o ambos de un diccionario. Observe que internamente no se realiza ningún sorteo de las llaves. En general, el orden de las llaves/valores dependerá en localizaciones en memoria, y difiere entre computadores diferentes y/o ejecuciones en el mismo computador. Al imprimir, Sage sortea las entradas del diccionario por llaves, específicamente para hacer los resultados más reproducibles. Sin embargo, los métodos `keys()` y `values()` no sortean. Si que su salida sea reproducible, debe sortearla primero, como en los ejemplos a continuación:"
   ]
  },
  {
   "cell_type": "code",
   "execution_count": null,
   "metadata": {
    "collapsed": true
   },
   "outputs": [],
   "source": [
    "d = {10 : 'newvalue', 20: 'newervalue', 3: 14, 0.5:(1,2,3)}"
   ]
  },
  {
   "cell_type": "code",
   "execution_count": null,
   "metadata": {
    "collapsed": false
   },
   "outputs": [],
   "source": [
    "sorted([key for key in d])"
   ]
  },
  {
   "cell_type": "code",
   "execution_count": null,
   "metadata": {
    "collapsed": false
   },
   "outputs": [],
   "source": [
    "d.keys()   # random order"
   ]
  },
  {
   "cell_type": "code",
   "execution_count": null,
   "metadata": {
    "collapsed": false
   },
   "outputs": [],
   "source": [
    "sorted(d.keys())"
   ]
  },
  {
   "cell_type": "code",
   "execution_count": null,
   "metadata": {
    "collapsed": false
   },
   "outputs": [],
   "source": [
    "d.values()   # random order"
   ]
  },
  {
   "cell_type": "code",
   "execution_count": null,
   "metadata": {
    "collapsed": false
   },
   "outputs": [],
   "source": [
    "set(d.values()) == set([14, (1, 2, 3), 'newvalue', 'newervalue'])"
   ]
  },
  {
   "cell_type": "code",
   "execution_count": null,
   "metadata": {
    "collapsed": false
   },
   "outputs": [],
   "source": [
    "d.items()    # random order"
   ]
  },
  {
   "cell_type": "code",
   "execution_count": null,
   "metadata": {
    "collapsed": false
   },
   "outputs": [],
   "source": [
    "sorted([(key, value) for key, value in d.items()])"
   ]
  },
  {
   "cell_type": "markdown",
   "metadata": {},
   "source": [
    "**Ejercicio:** Considere el siguiente grafo dirigido.\n",
    "\n",
    "Cree un diccionario cuyas llaves son los vértices de éste grafo, y cuyos valores son las listas de vertices a los que el vértice apunta. Por ejemplo, el vertice 1 apunta a los vértices 2 y 3, así que el diccionario tiene la forma:"
   ]
  },
  {
   "cell_type": "code",
   "execution_count": null,
   "metadata": {
    "collapsed": true
   },
   "outputs": [],
   "source": [
    "d = {  ..., 1:[2,3], ... } "
   ]
  },
  {
   "cell_type": "code",
   "execution_count": null,
   "metadata": {
    "collapsed": true
   },
   "outputs": [],
   "source": [
    "# editar aquí"
   ]
  },
  {
   "cell_type": "markdown",
   "metadata": {},
   "source": [
    "Después intente:"
   ]
  },
  {
   "cell_type": "code",
   "execution_count": null,
   "metadata": {
    "collapsed": true
   },
   "outputs": [],
   "source": [
    "g = DiGraph(d)\n",
    "g.plot()"
   ]
  },
  {
   "cell_type": "markdown",
   "metadata": {},
   "source": [
    "### Uso de tipos de Sage: El comando srange\n",
    "\n",
    "**Ejemplo:** Construya una matriz $(3\\times 3)$ cuya entrada $(i,j)$ es el número racional $(i,j)$. Los enteros generados por `` `range() `` son  `int` ‘s de Python. Como consecuencia, al dividirlos se hace división euclídea:"
   ]
  },
  {
   "cell_type": "code",
   "execution_count": null,
   "metadata": {
    "collapsed": false
   },
   "outputs": [],
   "source": [
    "matrix([[ i/j for j in range(1,4)] for i in range(1,4)])"
   ]
  },
  {
   "cell_type": "markdown",
   "metadata": {},
   "source": [
    "Por otra parte, dividir un Entero http://doc.sagemath.org/html/en/reference/rings_standard/sage/rings/integer.html de Sage por un  Entero de Sage  produce un número racional:"
   ]
  },
  {
   "cell_type": "code",
   "execution_count": null,
   "metadata": {
    "collapsed": false
   },
   "outputs": [],
   "source": [
    "matrix([[ i/j for j in srange(1,4)] for i in srange(1,4)])"
   ]
  },
  {
   "cell_type": "markdown",
   "metadata": {},
   "source": [
    "La modificación de listas tiene sus consecuencias!\n",
    "\n",
    "Intente producir los resultados de los siguientes comandos:"
   ]
  },
  {
   "cell_type": "code",
   "execution_count": null,
   "metadata": {
    "collapsed": false
   },
   "outputs": [],
   "source": [
    "a = [1, 2, 3]\n",
    "L = [a, a, a]\n",
    "L"
   ]
  },
  {
   "cell_type": "code",
   "execution_count": null,
   "metadata": {
    "collapsed": false
   },
   "outputs": [],
   "source": [
    "a.append(4)\n",
    "L"
   ]
  },
  {
   "cell_type": "markdown",
   "metadata": {},
   "source": [
    "Ahora intente:"
   ]
  },
  {
   "cell_type": "code",
   "execution_count": null,
   "metadata": {
    "collapsed": false
   },
   "outputs": [],
   "source": [
    "a = [1, 2, 3]\n",
    "L = [a, a, a]\n",
    "L"
   ]
  },
  {
   "cell_type": "code",
   "execution_count": null,
   "metadata": {
    "collapsed": false
   },
   "outputs": [],
   "source": [
    "a = [1, 2, 3, 4]\n",
    "L"
   ]
  },
  {
   "cell_type": "code",
   "execution_count": null,
   "metadata": {
    "collapsed": false
   },
   "outputs": [],
   "source": [
    "L[0].append(4)\n",
    "L"
   ]
  },
  {
   "cell_type": "markdown",
   "metadata": {},
   "source": [
    "Esto es conocido como el   *efecto referencia.*   Se puede usar el comando  `deepcopy()` https://docs.python.org/library/copy.html#copy.deepcopy para evitar este efecto:"
   ]
  },
  {
   "cell_type": "code",
   "execution_count": null,
   "metadata": {
    "collapsed": false
   },
   "outputs": [],
   "source": [
    "a = [1,2,3]\n",
    "L = [deepcopy(a), deepcopy(a)]\n",
    "L"
   ]
  },
  {
   "cell_type": "code",
   "execution_count": null,
   "metadata": {
    "collapsed": false
   },
   "outputs": [],
   "source": [
    "a.append(4)\n",
    "L"
   ]
  },
  {
   "cell_type": "markdown",
   "metadata": {},
   "source": [
    "El mismo efecto ocurre con diccionarios:"
   ]
  },
  {
   "cell_type": "code",
   "execution_count": null,
   "metadata": {
    "collapsed": false
   },
   "outputs": [],
   "source": [
    "d = {1:'a', 2:'b', 3:'c'}\n",
    "dd = d\n",
    "d.update( { 4:'d' } )\n",
    "dd"
   ]
  },
  {
   "cell_type": "markdown",
   "metadata": {},
   "source": [
    "Bucles y funciones\n",
    "------------------\n",
    "\n",
    "Para una explicación más charlada de esto, una buena referencia es esta seccion del tutorial de Python: http://docs.python.org/tutorial/controlflow.html http://docs.python.org/tutorial/controlflow.html\n",
    "\n",
    "## Bucles  *while*\n",
    "\n",
    "Los bucles  *while*  no se usan tanto como los bucles  *for*  en código de Python:"
   ]
  },
  {
   "cell_type": "code",
   "execution_count": null,
   "metadata": {
    "collapsed": false
   },
   "outputs": [],
   "source": [
    "i = 0\n",
    "while i < 10:\n",
    "    print i\n",
    "    i += 1"
   ]
  },
  {
   "cell_type": "code",
   "execution_count": null,
   "metadata": {
    "collapsed": false
   },
   "outputs": [],
   "source": [
    "i = 0\n",
    "while i < 10:\n",
    "    if i % 2 == 1:\n",
    "        i+=1\n",
    "        continue\n",
    "    print i \n",
    "    i+=1"
   ]
  },
  {
   "cell_type": "markdown",
   "metadata": {},
   "source": [
    "Observe que el valor de verdad de la expresión de cláusula en el bucle `while`  se evalua usando  `bool` :"
   ]
  },
  {
   "cell_type": "code",
   "execution_count": null,
   "metadata": {
    "collapsed": false
   },
   "outputs": [],
   "source": [
    "bool(True)"
   ]
  },
  {
   "cell_type": "code",
   "execution_count": null,
   "metadata": {
    "collapsed": false
   },
   "outputs": [],
   "source": [
    "bool('a')"
   ]
  },
  {
   "cell_type": "code",
   "execution_count": null,
   "metadata": {
    "collapsed": false
   },
   "outputs": [],
   "source": [
    "bool(1)"
   ]
  },
  {
   "cell_type": "code",
   "execution_count": null,
   "metadata": {
    "collapsed": false
   },
   "outputs": [],
   "source": [
    "bool(0)"
   ]
  },
  {
   "cell_type": "code",
   "execution_count": null,
   "metadata": {
    "collapsed": false
   },
   "outputs": [],
   "source": [
    "i = 4\n",
    "while i:\n",
    "    print i\n",
    "    i -= 1"
   ]
  },
  {
   "cell_type": "markdown",
   "metadata": {},
   "source": [
    "### Bucles *for*\n",
    "\n",
    "A continuación hay un bucle *for* básico que itera sobre todo los elementos en la lista`l` :"
   ]
  },
  {
   "cell_type": "code",
   "execution_count": null,
   "metadata": {
    "collapsed": false
   },
   "outputs": [],
   "source": [
    "l = ['a', 'b', 'c']\n",
    "for letter in l:\n",
    "    print letter"
   ]
  },
  {
   "cell_type": "markdown",
   "metadata": {},
   "source": [
    "La función `range()` https://docs.python.org/library/functions.html#range es muy útil cuando desea generar progresiones aritméticas para recorrer en un bucle. Observe que el punto final nunca se incluye:"
   ]
  },
  {
   "cell_type": "code",
   "execution_count": null,
   "metadata": {
    "collapsed": true
   },
   "outputs": [],
   "source": [
    "range?"
   ]
  },
  {
   "cell_type": "code",
   "execution_count": null,
   "metadata": {
    "collapsed": false
   },
   "outputs": [],
   "source": [
    "range(4)"
   ]
  },
  {
   "cell_type": "code",
   "execution_count": null,
   "metadata": {
    "collapsed": true
   },
   "outputs": [],
   "source": [
    "range(1, 5)"
   ]
  },
  {
   "cell_type": "code",
   "execution_count": null,
   "metadata": {
    "collapsed": false
   },
   "outputs": [],
   "source": [
    "range(1, 11, 2)"
   ]
  },
  {
   "cell_type": "code",
   "execution_count": null,
   "metadata": {
    "collapsed": false
   },
   "outputs": [],
   "source": [
    "range(10, 0, -1)"
   ]
  },
  {
   "cell_type": "code",
   "execution_count": null,
   "metadata": {
    "collapsed": false
   },
   "outputs": [],
   "source": [
    "for i in range(4):\n",
    "    print i, i*i"
   ]
  },
  {
   "cell_type": "markdown",
   "metadata": {},
   "source": [
    "Para saltar inmediatamente al siguiente paso en la iteración, se usa la palabra   *continue:*"
   ]
  },
  {
   "cell_type": "code",
   "execution_count": null,
   "metadata": {
    "collapsed": false
   },
   "outputs": [],
   "source": [
    "for i in range(10):\n",
    "    if i % 2 == 0:\n",
    "        continue\n",
    "    print i"
   ]
  },
  {
   "cell_type": "markdown",
   "metadata": {},
   "source": [
    "Para salir del bucle, use el comando `break`"
   ]
  },
  {
   "cell_type": "code",
   "execution_count": null,
   "metadata": {
    "collapsed": false
   },
   "outputs": [],
   "source": [
    "for i in range(10):\n",
    "    if i % 2 == 0:\n",
    "        continue\n",
    "    if i == 7:\n",
    "        break\n",
    "    print i"
   ]
  },
  {
   "cell_type": "markdown",
   "metadata": {},
   "source": [
    "Si necesita registrar la posición en la lista y su valor, una forma de hacerlo (no muy elegante) es así:"
   ]
  },
  {
   "cell_type": "code",
   "execution_count": null,
   "metadata": {
    "collapsed": false
   },
   "outputs": [],
   "source": [
    "l = ['a', 'b', 'c']\n",
    "for i in range(len(l)):\n",
    "    print i, l[i]"
   ]
  },
  {
   "cell_type": "markdown",
   "metadata": {},
   "source": [
    "Una forma más limpia es usando  `enumerate()` https://docs.python.org/library/functions.html#enumerate , que provee tanto el índice como el valor:"
   ]
  },
  {
   "cell_type": "code",
   "execution_count": null,
   "metadata": {
    "collapsed": false
   },
   "outputs": [],
   "source": [
    "l = ['a', 'b', 'c']\n",
    "for i, letter in enumerate(l):\n",
    "    print i, letter"
   ]
  },
  {
   "cell_type": "markdown",
   "metadata": {},
   "source": [
    "Los bucles `for`  funcionan el protocolo de iteración de Python. Esto permite hacer bucles sobre diversas clases de objetos. Por ejemplo:"
   ]
  },
  {
   "cell_type": "code",
   "execution_count": null,
   "metadata": {
    "collapsed": false
   },
   "outputs": [],
   "source": [
    "for i in GF(5):\n",
    "    print i, i*i"
   ]
  },
  {
   "cell_type": "markdown",
   "metadata": {},
   "source": [
    "Cómo funciona esto?"
   ]
  },
  {
   "cell_type": "code",
   "execution_count": null,
   "metadata": {
    "collapsed": false
   },
   "outputs": [],
   "source": [
    "it = iter(GF(5)); it"
   ]
  },
  {
   "cell_type": "code",
   "execution_count": null,
   "metadata": {
    "collapsed": false
   },
   "outputs": [],
   "source": [
    "next(it)"
   ]
  },
  {
   "cell_type": "code",
   "execution_count": null,
   "metadata": {
    "collapsed": false
   },
   "outputs": [],
   "source": [
    "next(it)"
   ]
  },
  {
   "cell_type": "code",
   "execution_count": null,
   "metadata": {
    "collapsed": false
   },
   "outputs": [],
   "source": [
    "next(it)"
   ]
  },
  {
   "cell_type": "code",
   "execution_count": null,
   "metadata": {
    "collapsed": false
   },
   "outputs": [],
   "source": [
    "next(it)"
   ]
  },
  {
   "cell_type": "code",
   "execution_count": null,
   "metadata": {
    "collapsed": false
   },
   "outputs": [],
   "source": [
    "next(it)"
   ]
  },
  {
   "cell_type": "code",
   "execution_count": null,
   "metadata": {
    "collapsed": false
   },
   "outputs": [],
   "source": [
    "next(it)"
   ]
  },
  {
   "cell_type": "code",
   "execution_count": null,
   "metadata": {
    "collapsed": true
   },
   "outputs": [],
   "source": [
    "R = GF(5)\n",
    "R.__iter__??"
   ]
  },
  {
   "cell_type": "markdown",
   "metadata": {},
   "source": [
    "El comando  `yield`  es una forma muy conveniente de producir iteradores. Más adelante veremos más al respecto.\n",
    "\n",
    "## Ejercicios\n",
    "\n",
    "Para cada uno de los siguientes conjuntos, construya una lista con sus elementos y compute su suma. Use dos formas diferentes, si es posible: con un bucle y con una comprensión de lista.\n",
    "\n",
    "-  Los primeros términos de la serie armónica:\n",
    "\n",
    "$$\\sum_{i=1}^n \\frac{1}{i}$$"
   ]
  },
  {
   "cell_type": "code",
   "execution_count": null,
   "metadata": {
    "collapsed": true
   },
   "outputs": [],
   "source": [
    "# editar aquí"
   ]
  },
  {
   "cell_type": "markdown",
   "metadata": {},
   "source": [
    "-   Los enteros impares entre $1$ y $n$."
   ]
  },
  {
   "cell_type": "code",
   "execution_count": null,
   "metadata": {
    "collapsed": true
   },
   "outputs": [],
   "source": [
    "# editar aquí"
   ]
  },
  {
   "cell_type": "markdown",
   "metadata": {},
   "source": [
    "-   Los primeros $n$ números impares."
   ]
  },
  {
   "cell_type": "code",
   "execution_count": null,
   "metadata": {
    "collapsed": true
   },
   "outputs": [],
   "source": [
    "# editar aquí"
   ]
  },
  {
   "cell_type": "markdown",
   "metadata": {},
   "source": [
    "-   Los números de $1$ a $n$ que no son divisibles por 2, por 3 ni por 5."
   ]
  },
  {
   "cell_type": "code",
   "execution_count": null,
   "metadata": {
    "collapsed": true
   },
   "outputs": [],
   "source": [
    "# editar aqui"
   ]
  },
  {
   "cell_type": "markdown",
   "metadata": {},
   "source": [
    "Los primeros $n$ enteros que no son divisibles por 2, por 3 ni por 5."
   ]
  },
  {
   "cell_type": "code",
   "execution_count": null,
   "metadata": {
    "collapsed": true
   },
   "outputs": [],
   "source": [
    "# editar aquí"
   ]
  },
  {
   "cell_type": "markdown",
   "metadata": {},
   "source": [
    "### Funciones\n",
    "\n",
    "Las funciones se definen usando la sentencia *def* , y los valores son devueltos usando la instrucción *return* :"
   ]
  },
  {
   "cell_type": "code",
   "execution_count": null,
   "metadata": {
    "collapsed": true
   },
   "outputs": [],
   "source": [
    "def f(x):\n",
    "    return x*x"
   ]
  },
  {
   "cell_type": "code",
   "execution_count": null,
   "metadata": {
    "collapsed": false
   },
   "outputs": [],
   "source": [
    "f(2)"
   ]
  },
  {
   "cell_type": "markdown",
   "metadata": {},
   "source": [
    "Las funciones pueden ser recursivas:"
   ]
  },
  {
   "cell_type": "code",
   "execution_count": null,
   "metadata": {
    "collapsed": true
   },
   "outputs": [],
   "source": [
    "def fib(n):\n",
    "    if n <= 1:\n",
    "        return 1\n",
    "    else:\n",
    "        return fib(n-1) + fib(n-2)"
   ]
  },
  {
   "cell_type": "code",
   "execution_count": null,
   "metadata": {
    "collapsed": false
   },
   "outputs": [],
   "source": [
    "[fib(i) for i in range(10)]"
   ]
  },
  {
   "cell_type": "markdown",
   "metadata": {},
   "source": [
    "Las funciones son objetos de primera clase como cualquier otro. Por ejemplo, se pueden pasar como argumentos a otras functiones:"
   ]
  },
  {
   "cell_type": "code",
   "execution_count": null,
   "metadata": {
    "collapsed": false
   },
   "outputs": [],
   "source": [
    "f"
   ]
  },
  {
   "cell_type": "code",
   "execution_count": null,
   "metadata": {
    "collapsed": true
   },
   "outputs": [],
   "source": [
    "def compose(f, x, n):   # computa f(f(...f(x)))\n",
    "    for i in range(n):\n",
    "        x = f(x)        # este cambio es local en esta llamada de la función!\n",
    "    return x"
   ]
  },
  {
   "cell_type": "code",
   "execution_count": null,
   "metadata": {
    "collapsed": false
   },
   "outputs": [],
   "source": [
    "compose(f, 2, 3)"
   ]
  },
  {
   "cell_type": "code",
   "execution_count": null,
   "metadata": {
    "collapsed": true
   },
   "outputs": [],
   "source": [
    "def add_one(x):\n",
    "    return x + 1"
   ]
  },
  {
   "cell_type": "code",
   "execution_count": null,
   "metadata": {
    "collapsed": false
   },
   "outputs": [],
   "source": [
    "compose(add_one, 2, 3)"
   ]
  },
  {
   "cell_type": "markdown",
   "metadata": {},
   "source": [
    "Se pueden definir valores por defecto para argumentos de funciones:"
   ]
  },
  {
   "cell_type": "code",
   "execution_count": null,
   "metadata": {
    "collapsed": true
   },
   "outputs": [],
   "source": [
    "def add_n(x, n=1):\n",
    "    return x + n"
   ]
  },
  {
   "cell_type": "code",
   "execution_count": null,
   "metadata": {
    "collapsed": false
   },
   "outputs": [],
   "source": [
    "add_n(4)"
   ]
  },
  {
   "cell_type": "code",
   "execution_count": null,
   "metadata": {
    "collapsed": false
   },
   "outputs": [],
   "source": [
    "add_n(4, n=100)"
   ]
  },
  {
   "cell_type": "code",
   "execution_count": null,
   "metadata": {
    "collapsed": false
   },
   "outputs": [],
   "source": [
    "add_n(4, 1000)"
   ]
  },
  {
   "cell_type": "markdown",
   "metadata": {},
   "source": [
    "Una función puede devolver múltiples valores:"
   ]
  },
  {
   "cell_type": "code",
   "execution_count": null,
   "metadata": {
    "collapsed": true
   },
   "outputs": [],
   "source": [
    "def g(x):\n",
    "    return x, x*x"
   ]
  },
  {
   "cell_type": "code",
   "execution_count": null,
   "metadata": {
    "collapsed": false
   },
   "outputs": [],
   "source": [
    "g(2)"
   ]
  },
  {
   "cell_type": "code",
   "execution_count": null,
   "metadata": {
    "collapsed": false
   },
   "outputs": [],
   "source": [
    "type(g)"
   ]
  },
  {
   "cell_type": "code",
   "execution_count": null,
   "metadata": {
    "collapsed": true
   },
   "outputs": [],
   "source": [
    "a,b = g(100)"
   ]
  },
  {
   "cell_type": "code",
   "execution_count": null,
   "metadata": {
    "collapsed": false
   },
   "outputs": [],
   "source": [
    "a"
   ]
  },
  {
   "cell_type": "code",
   "execution_count": null,
   "metadata": {
    "collapsed": false
   },
   "outputs": [],
   "source": [
    "b"
   ]
  },
  {
   "cell_type": "markdown",
   "metadata": {},
   "source": [
    "Es posible definir funciones con un número variable de argumentos y argumentos keyword:"
   ]
  },
  {
   "cell_type": "code",
   "execution_count": null,
   "metadata": {
    "collapsed": true
   },
   "outputs": [],
   "source": [
    "def h(*args, **kwds):\n",
    "    print type(args), args\n",
    "    print type(kwds), kwds"
   ]
  },
  {
   "cell_type": "code",
   "execution_count": null,
   "metadata": {
    "collapsed": false
   },
   "outputs": [],
   "source": [
    "h(1,2,3,n=4)"
   ]
  },
  {
   "cell_type": "markdown",
   "metadata": {},
   "source": [
    "Usemos la instrucción *yield* para hacer un generador de los números de Fibonacci hasta el número $n$ :"
   ]
  },
  {
   "cell_type": "code",
   "execution_count": null,
   "metadata": {
    "collapsed": true
   },
   "outputs": [],
   "source": [
    "def fib_gen(n):\n",
    "    if n < 1:\n",
    "        return\n",
    "    a = b = 1\n",
    "    yield b\n",
    "    while b < n:\n",
    "        yield b\n",
    "        a, b = b, b+a"
   ]
  },
  {
   "cell_type": "code",
   "execution_count": null,
   "metadata": {
    "collapsed": false
   },
   "outputs": [],
   "source": [
    "for i in fib_gen(50):\n",
    "    print i"
   ]
  },
  {
   "cell_type": "markdown",
   "metadata": {},
   "source": [
    "#### Ejercicios\n",
    "\n",
    "1.  Escriba una función `is_even` , que devuelve `True` si `n` es par y `False` de lo contrario.\n",
    "2.  Escriba una función `every_other` , que recibe una lista `l` como argumento y devuelve una lista con los elementos intercalados de `l` (uno sí y el siguiente no).\n",
    "3.  Escriba un generador `every_other` , que recibe un iterable `l` como entrada y devuelve los elementos de `l` intercalados, uno después del otro.\n",
    "1.  Escriba una función que computa el $n$-ésimo número de Fibonacci. Trate de mejorar el rendimiento."
   ]
  },
  {
   "cell_type": "code",
   "execution_count": null,
   "metadata": {
    "collapsed": true
   },
   "outputs": [],
   "source": []
  }
 ],
 "metadata": {
  "kernelspec": {
   "display_name": "SageMath 7.5.1",
   "language": "",
   "name": "sagemath"
  },
  "language_info": {
   "codemirror_mode": {
    "name": "ipython",
    "version": 2
   },
   "file_extension": ".py",
   "mimetype": "text/x-python",
   "name": "python",
   "nbconvert_exporter": "python",
   "pygments_lexer": "ipython2",
   "version": "2.7.13"
  }
 },
 "nbformat": 4,
 "nbformat_minor": 2
}
