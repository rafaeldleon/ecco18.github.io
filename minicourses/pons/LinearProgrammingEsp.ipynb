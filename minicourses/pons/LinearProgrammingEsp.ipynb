{
 "cells": [
  {
   "cell_type": "markdown",
   "metadata": {
    "deletable": true,
    "editable": true
   },
   "source": [
    "# Programación lineal mixta\n",
    "\n",
    "Se ha mencionado en la clase que hay un algoritmo muy eficiente para resolver problemas de optimización donde las restricciones son lineales. Resulta que muchos problemas combinatorios pueden ser traducidos a estos problemas de optimización.\n",
    "\n",
    "Puede utilizar Sage para resolver problemas de optimización lineales con coeficientes enteros. La clase principal que necesita utilizar se llama *MixedIntegerLinearProgram*. Aqui hay un pequeño ejemplo para ver como utilizarla. "
   ]
  },
  {
   "cell_type": "code",
   "execution_count": 10,
   "metadata": {
    "collapsed": true,
    "deletable": true,
    "editable": true
   },
   "outputs": [],
   "source": [
    "P = MixedIntegerLinearProgram() # we create an instance to solve our new problem"
   ]
  },
  {
   "cell_type": "code",
   "execution_count": 11,
   "metadata": {
    "collapsed": true,
    "deletable": true,
    "editable": true
   },
   "outputs": [],
   "source": [
    "x = P.new_variable(real = True, nonnegative = True) # we create new variables"
   ]
  },
  {
   "cell_type": "code",
   "execution_count": 12,
   "metadata": {
    "collapsed": true,
    "deletable": true,
    "editable": true
   },
   "outputs": [],
   "source": [
    "P.set_objective(x[1] + x[2] + 3*x[3]) # this is the function we want to maximize"
   ]
  },
  {
   "cell_type": "code",
   "execution_count": 13,
   "metadata": {
    "collapsed": true,
    "deletable": true,
    "editable": true
   },
   "outputs": [],
   "source": [
    "P.add_constraint(x[1]+ 2*x[2] <= 4) # the constraints\n",
    "P.add_constraint(5*x[3] - x[2] <= 8)"
   ]
  },
  {
   "cell_type": "code",
   "execution_count": 14,
   "metadata": {
    "collapsed": false,
    "deletable": true,
    "editable": true
   },
   "outputs": [],
   "source": [
    "P"
   ]
  },
  {
   "cell_type": "code",
   "execution_count": 15,
   "metadata": {
    "collapsed": false,
    "deletable": true,
    "editable": true
   },
   "outputs": [],
   "source": [
    "P.solve() # let's optimize it"
   ]
  },
  {
   "cell_type": "code",
   "execution_count": 16,
   "metadata": {
    "collapsed": false,
    "deletable": true,
    "editable": true
   },
   "outputs": [],
   "source": [
    "P.get_values(x[1])"
   ]
  },
  {
   "cell_type": "code",
   "execution_count": 17,
   "metadata": {
    "collapsed": false,
    "deletable": true,
    "editable": true
   },
   "outputs": [],
   "source": [
    "P.get_values(x[2])"
   ]
  },
  {
   "cell_type": "code",
   "execution_count": 18,
   "metadata": {
    "collapsed": false,
    "deletable": true,
    "editable": true
   },
   "outputs": [],
   "source": [
    "P.get_values(x[3])"
   ]
  },
  {
   "cell_type": "markdown",
   "metadata": {
    "deletable": true,
    "editable": true
   },
   "source": [
    "En este ejemplo, hemos calculado el valor máximo de la función\n",
    "\n",
    "$$x_1 + x_2 + 3x_3$$\n",
    "\n",
    "bajo las restricciones\n",
    "\n",
    "$$x_1 + 2x_2 \\leq 4,$$\n",
    "$$5x_3 - x_2 \\leq 8.$$\n",
    "\n",
    "Hemos encontrado que el valor máximo es  $4$ con $x_1 = 4$, $x_2 = 0$ y $x_3 = 1.6$."
   ]
  },
  {
   "cell_type": "markdown",
   "metadata": {
    "deletable": true,
    "editable": true
   },
   "source": [
    "By default, Sage is using the [GLPK](http://www.gnu.org/software/glpk/) solver from GNU. This is an open source solver. It also has other solver installed and you can choose which one to use depending on your use. Besides, you can also install some non-open-source solver which are supported by Sage. To know more, read the [Linear Programming tutorial](http://doc.sagemath.org/html/en/thematic_tutorials/linear_programming.html) on the Sage website."
   ]
  },
  {
   "cell_type": "markdown",
   "metadata": {
    "deletable": true,
    "editable": true
   },
   "source": [
    "## Combinatorial y programación lineal\n",
    "\n",
    "Durante la sesión de ejercicios, hemos resuelto algunos problemas de teoria de grafos utilizando optimización. Las soluciones que hemos encontrado no son lineales. Sin embargo, al trasladar algunas de las restricciones al nivel de variables en Sage, podemos expresar estos problemas de una manera lineal. Considere el siguiente ejemplo."
   ]
  },
  {
   "cell_type": "code",
   "execution_count": 19,
   "metadata": {
    "collapsed": false,
    "deletable": true,
    "editable": true
   },
   "outputs": [],
   "source": [
    "G = graphs.PetersenGraph() # para varios de nuestros ejemplso vamos a utilizr el grafo Petersen G"
   ]
  },
  {
   "cell_type": "markdown",
   "metadata": {
    "deletable": true,
    "editable": true
   },
   "source": [
    "Encontremos el conjunto mas grande de vertices compatibles. (Recordemos que dos vértices son compatibles si no comparten ninguna arista)."
   ]
  },
  {
   "cell_type": "code",
   "execution_count": 20,
   "metadata": {
    "collapsed": true,
    "deletable": true,
    "editable": true
   },
   "outputs": [],
   "source": [
    "P = MixedIntegerLinearProgram()\n",
    "x = P.new_variable(binary = True)"
   ]
  },
  {
   "cell_type": "markdown",
   "metadata": {
    "deletable": true,
    "editable": true
   },
   "source": [
    "Al añadir la palabra clave `binary = True`, le pedimos a Sage que cada variable sea 1 ó 0. Esto evita añadir la restricción cuadrática $x_i(1 - x_i) = 0$."
   ]
  },
  {
   "cell_type": "code",
   "execution_count": 21,
   "metadata": {
    "collapsed": true,
    "deletable": true,
    "editable": true
   },
   "outputs": [],
   "source": [
    "P.set_objective(sum(x[i] for i in G)) # the objective is the sum of all variable, aka the size of the set"
   ]
  },
  {
   "cell_type": "code",
   "execution_count": 22,
   "metadata": {
    "collapsed": true,
    "deletable": true,
    "editable": true
   },
   "outputs": [],
   "source": [
    "for e in G.edges(): # we go through all edges\n",
    "    i,j = e[0], e[1] \n",
    "    P.add_constraint(x[i] + x[j] <= 1)"
   ]
  },
  {
   "cell_type": "markdown",
   "metadata": {
    "deletable": true,
    "editable": true
   },
   "source": [
    "Note que hemos cambiado la restricción que vimos en la sesión de ejercicios. ¡ La restricción original $x_i x_j = 0$ es cuadrática ! Nuestra nueva restricción tambien funciona y es lineal."
   ]
  },
  {
   "cell_type": "code",
   "execution_count": 23,
   "metadata": {
    "collapsed": false,
    "deletable": true,
    "editable": true
   },
   "outputs": [],
   "source": [
    "P.solve()"
   ]
  },
  {
   "cell_type": "markdown",
   "metadata": {
    "deletable": true,
    "editable": true
   },
   "source": [
    "El conjunto máximo tiene 4 vértices, que son:"
   ]
  },
  {
   "cell_type": "code",
   "execution_count": 24,
   "metadata": {
    "collapsed": false,
    "deletable": true,
    "editable": true
   },
   "outputs": [],
   "source": [
    "E = {i for i in G if P.get_values(x[i]) == 1}\n",
    "E"
   ]
  },
  {
   "cell_type": "markdown",
   "metadata": {
    "deletable": true,
    "editable": true
   },
   "source": [
    "**Todos los siguientes ejercicios son de la página [pagina personal de Nathann Cohen](https://www.steinertriples.fr/ncohen/tut/LP_examples/) encontrará soluciones y mas ejercicios (en ingles).**"
   ]
  },
  {
   "cell_type": "markdown",
   "metadata": {
    "deletable": true,
    "editable": true
   },
   "source": [
    "### Exercisio : corte maximo\n",
    "\n",
    "Resuelva el ejercicio 2 del Taller 1: encuentre el conjunto $A \\subset G$ tal que el número de aristas saliendo de $A$ a $G \\setminus A$ es máximo."
   ]
  },
  {
   "cell_type": "code",
   "execution_count": 27,
   "metadata": {
    "collapsed": false,
    "deletable": true,
    "editable": true
   },
   "outputs": [],
   "source": [
    "G = graphs.PetersenGraph()\n",
    "G"
   ]
  },
  {
   "cell_type": "code",
   "execution_count": 25,
   "metadata": {
    "collapsed": false,
    "deletable": true,
    "editable": true
   },
   "outputs": [],
   "source": []
  },
  {
   "cell_type": "code",
   "execution_count": 29,
   "metadata": {
    "collapsed": false,
    "deletable": true,
    "editable": true
   },
   "outputs": [],
   "source": []
  },
  {
   "cell_type": "markdown",
   "metadata": {
    "deletable": true,
    "editable": true
   },
   "source": [
    "** debe encontrar un máximo de 8 aristas**"
   ]
  },
  {
   "cell_type": "markdown",
   "metadata": {
    "deletable": true,
    "editable": true
   },
   "source": [
    "### Exercisio : Conjunto dominante\n",
    "\n",
    "Encuentre el *conjunto mínimo* de vertices tal que cada vertice $i$ es en el conjunto o es un vecino de un elemento en el conjunto."
   ]
  },
  {
   "cell_type": "code",
   "execution_count": 30,
   "metadata": {
    "collapsed": false,
    "deletable": true,
    "editable": true
   },
   "outputs": [],
   "source": [
    "G = graphs.PetersenGraph()\n",
    "G"
   ]
  },
  {
   "cell_type": "code",
   "execution_count": 34,
   "metadata": {
    "collapsed": false,
    "deletable": true,
    "editable": true
   },
   "outputs": [],
   "source": [
    "P = MixedIntegerLinearProgram(maximization = False) # this is how we do minimal except of maximal\n"
   ]
  },
  {
   "cell_type": "code",
   "execution_count": 35,
   "metadata": {
    "collapsed": false,
    "deletable": true,
    "editable": true
   },
   "outputs": [],
   "source": []
  },
  {
   "cell_type": "markdown",
   "metadata": {
    "deletable": true,
    "editable": true
   },
   "source": [
    "**debe encontrar un conjunto de tamaño 3. Por ejemplo $\\lbrace 0,2,6 \\rbrace$.**"
   ]
  },
  {
   "cell_type": "markdown",
   "metadata": {
    "deletable": true,
    "editable": true
   },
   "source": [
    "### Exercisio : Cobertura de vértices mínimo\n",
    "\n",
    "Encuentre el conjunto *minimo* de vertices tal que cada arista contiene al menos uno de los vertices del conjunto."
   ]
  },
  {
   "cell_type": "code",
   "execution_count": 36,
   "metadata": {
    "collapsed": false,
    "deletable": true,
    "editable": true
   },
   "outputs": [],
   "source": [
    "G = graphs.PetersenGraph()\n",
    "G"
   ]
  },
  {
   "cell_type": "code",
   "execution_count": 38,
   "metadata": {
    "collapsed": false,
    "deletable": true,
    "editable": true
   },
   "outputs": [],
   "source": []
  },
  {
   "cell_type": "code",
   "execution_count": 40,
   "metadata": {
    "collapsed": false,
    "deletable": true,
    "editable": true
   },
   "outputs": [],
   "source": []
  },
  {
   "cell_type": "markdown",
   "metadata": {
    "deletable": true,
    "editable": true
   },
   "source": [
    "**Debe encontrar un conjunto de tamaño 6**."
   ]
  },
  {
   "cell_type": "markdown",
   "metadata": {
    "deletable": true,
    "editable": true
   },
   "source": [
    "### Exercisio : Conjunto bipartito\n",
    "\n",
    "Encuentre un conjunto $A$ tal que cada arista tiene exactamente un vértice en $A$. "
   ]
  },
  {
   "cell_type": "code",
   "execution_count": 46,
   "metadata": {
    "collapsed": false,
    "deletable": true,
    "editable": true
   },
   "outputs": [],
   "source": [
    "G = graphs.CompleteBipartiteGraph(3,3)\n",
    "G"
   ]
  },
  {
   "cell_type": "code",
   "execution_count": 47,
   "metadata": {
    "collapsed": false,
    "deletable": true,
    "editable": true
   },
   "outputs": [],
   "source": []
  },
  {
   "cell_type": "code",
   "execution_count": 49,
   "metadata": {
    "collapsed": false,
    "deletable": true,
    "editable": true
   },
   "outputs": [],
   "source": []
  },
  {
   "cell_type": "markdown",
   "metadata": {
    "deletable": true,
    "editable": true
   },
   "source": [
    "### Exercisio : distancia\n",
    "\n",
    "Calcule la distancia de un vértice 8 a cualquier otro."
   ]
  },
  {
   "cell_type": "code",
   "execution_count": 50,
   "metadata": {
    "collapsed": false,
    "deletable": true,
    "editable": true
   },
   "outputs": [],
   "source": [
    "G = graphs.PetersenGraph()\n",
    "G"
   ]
  },
  {
   "cell_type": "code",
   "execution_count": 53,
   "metadata": {
    "collapsed": false,
    "deletable": true,
    "editable": true
   },
   "outputs": [],
   "source": []
  },
  {
   "cell_type": "code",
   "execution_count": null,
   "metadata": {
    "collapsed": true,
    "deletable": true,
    "editable": true
   },
   "outputs": [],
   "source": []
  }
 ],
 "metadata": {
  "kernelspec": {
   "display_name": "SageMath 7.5.1",
   "language": "",
   "name": "sagemath"
  },
  "language_info": {
   "codemirror_mode": {
    "name": "ipython",
    "version": 2
   },
   "file_extension": ".py",
   "mimetype": "text/x-python",
   "name": "python",
   "nbconvert_exporter": "python",
   "pygments_lexer": "ipython2",
   "version": "2.7.13"
  }
 },
 "nbformat": 4,
 "nbformat_minor": 0
}
