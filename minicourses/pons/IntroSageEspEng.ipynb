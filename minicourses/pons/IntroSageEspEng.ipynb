{
 "cells": [
  {
   "cell_type": "markdown",
   "metadata": {},
   "source": [
    "$$\n",
    "\\def\\CC{\\bf C}\n",
    "\\def\\QQ{\\bf Q}\n",
    "\\def\\RR{\\bf R}\n",
    "\\def\\ZZ{\\bf Z}\n",
    "\\def\\NN{\\bf N}\n",
    "$$\n",
    "\n",
    "## Hacer está página una hoja de trabajo\n",
    "\n",
    "Si esta mirando este documento con un explorador web como una página estática, usted puede ver todos los ejemplos sin embargo debe copiar y pegar cada línea de código para hacer experimentos. Utilice el botón `Upload   worksheet y copie y pegue este URL en esta página para obtener una copia editable en su cuaderno (notebook).`\n",
    "\n",
    "Si usted está navegando este document como parte de la documentación en vivo de Sage, usted puede manipular los ejemplos directamente aquiñ sin embargo sus cambios no seran guardados y se perderan una vez usted cierre la página. Utilice `Copy   worksheet` desde el menu `File...` arriba de esta página para obtener una copia editable en su cuaderno.\n",
    "\n",
    "En ambos el tutorial en vivo y en el cuaderno usted puede borrar todo el output seleccionando `Delete   All   Output` en el menu `Action...` al lado del menu `File...` arriba del cuaderno.\n",
    "\n",
    "## Insertando, Editando y Evaluando Input\n",
    "\n",
    "Para evaluar código en el cuaderno de Sage, entre el còdigo en una celda de intput y presione shift-enter ó el link evaluate. Intente esto ahora con una expresión simple (e.g. 2+3)."
   ]
  },
  {
   "cell_type": "code",
   "execution_count": null,
   "metadata": {
    "collapsed": false
   },
   "outputs": [],
   "source": [
    "2 + 3"
   ]
  },
  {
   "cell_type": "code",
   "execution_count": null,
   "metadata": {
    "collapsed": true
   },
   "outputs": [],
   "source": [
    "# edit here"
   ]
  },
  {
   "cell_type": "code",
   "execution_count": null,
   "metadata": {
    "collapsed": true
   },
   "outputs": [],
   "source": [
    "# edit here"
   ]
  },
  {
   "cell_type": "markdown",
   "metadata": {},
   "source": [
    "Para crear celdas de input nuevas, presione la linea azul que aparece entre las celdas cuando mueve su mouse entre las dos. Intente esto ahora\n",
    "\n",
    "To create *new input cells* , click the blue line that appears betweencells when you move your mouse around. Try it now:"
   ]
  },
  {
   "cell_type": "code",
   "execution_count": null,
   "metadata": {
    "collapsed": false
   },
   "outputs": [],
   "source": [
    "1 + 1"
   ]
  },
  {
   "cell_type": "code",
   "execution_count": null,
   "metadata": {
    "collapsed": true
   },
   "outputs": [],
   "source": [
    "# edit here"
   ]
  },
  {
   "cell_type": "markdown",
   "metadata": {},
   "source": [
    "Usted puede retroceder en cualquier celda presionando en el interior (o utilizando las flechas de su teclado para moverse arriba o abajo). Regrese a su ejemplo y cambie el 2+3 a 3+3 y reevaluelo. Una celda vacía puede ser borrada con la tecla de borrar.\n",
    "\n",
    "Usted tambien puede editar los textos al hacer doble click sobre ellos. Usted puede incluir matemáticas como $\\sin(x) - y^3$ utilizando los signos de dollar como en LaTeX.\n",
    "\n",
    "### Sistemas de ayuda\n",
    "\n",
    "Hay varias maneras de obtener ayuda en Sage.\n",
    "\n",
    "-   navegando a travez de la documentación (hay un link de Help ariba a la derecha en el cuaderno)\n",
    "-   ¨tab completion\" al presionar tab se completan los comandos\n",
    "-   ayuda contextual\n",
    "\n",
    "A continuación explicamos los ultimos dos ejemplos por medio de ejemplos.\n",
    "\n",
    "### Terminación con tab y documentación contextual\n",
    "\n",
    "Comience a excribir y presione la tecla tab. La interface intenta completar el nombre del comando. Si hay más de una opción, entonces le mostrarán una lista. Recuerde que Sage es sensible a minúsculas y mayúsculas, i.e. diferencia entre estos dos tipos de letras. Por ejemplo ¨tab completion\" (terminación por tab) de klein no le mostrará el comando KleinFourGroup que construye el grupo $\\mathbb{Z}/2 \\times \\mathbb{Z}/2$ como un grupo de permutación. Intente esto en las siguientes celdas.\n",
    "\n",
    "You can *go back* and edit any cell by clicking in it (or using thearrow keys on your keyboard to move up or down). Go back and changeyour 2+3 above to 3+3 and re-evaluate it. An empty cell can be *deleted* with backspace.\n",
    "\n",
    "You can also *edit this text* right here by double clicking on it,which will bring up the TinyMCE Javascript text editor. You can evenput embedded mathematics like this $sin(x) - y^3$ by using dollar signsjust like in TeX or LaTeX.\n",
    "\n",
    "## Help systems\n",
    "\n",
    "There are various ways of getting help in Sage.\n",
    "\n",
    "-   navigate through the documentation (there is a link `Help` at the top rightof the worksheet),\n",
    "-   `tab` completion,\n",
    "-   contextual help.\n",
    "\n",
    "We detail below the latter two methods through examples.\n",
    "\n",
    "## Completion and contextual documentation\n",
    "\n",
    "Start typing something and press the `tab` key. The interface tries tocomplete it with a command name. If there is more than one completion, thenthey are all presented to you. Remember that Sage is case sensitive, i.e. itdifferentiates upper case from lower case. Hence the `tab` completion of`klein` won’t show you the `KleinFourGroup` command that builds the groupZZ/2 times ZZ/2 as a permutation group. Try it on the next cells:"
   ]
  },
  {
   "cell_type": "code",
   "execution_count": null,
   "metadata": {
    "collapsed": true
   },
   "outputs": [],
   "source": [
    "klein"
   ]
  },
  {
   "cell_type": "code",
   "execution_count": null,
   "metadata": {
    "collapsed": true
   },
   "outputs": [],
   "source": [
    "Klein"
   ]
  },
  {
   "cell_type": "markdown",
   "metadata": {},
   "source": [
    "To see documentation and examples for a command, type a question mark `?` atthe end of the command name and press the `tab` key as in:\n",
    "\n",
    "Para ver documentación y ejemplos para un comando, escriba el signo de interrogación ? al final del nombre del comando y presione la tecla tab como en la siguiente celda:"
   ]
  },
  {
   "cell_type": "code",
   "execution_count": null,
   "metadata": {
    "collapsed": true
   },
   "outputs": [],
   "source": [
    "KleinFourGroup?"
   ]
  },
  {
   "cell_type": "code",
   "execution_count": null,
   "metadata": {
    "collapsed": true
   },
   "outputs": [],
   "source": [
    "# edit here"
   ]
  },
  {
   "cell_type": "markdown",
   "metadata": {},
   "source": [
    "Exercise A\n",
    "\n",
    "What is the largest prime factor of 600851475143?"
   ]
  },
  {
   "cell_type": "code",
   "execution_count": null,
   "metadata": {
    "collapsed": true
   },
   "outputs": [],
   "source": [
    "factor?"
   ]
  },
  {
   "cell_type": "code",
   "execution_count": null,
   "metadata": {
    "collapsed": true
   },
   "outputs": [],
   "source": [
    "# edit here"
   ]
  },
  {
   "cell_type": "markdown",
   "metadata": {},
   "source": [
    "En la manipulación anterior no hemos guardado ninguna información para utilizarla despues. Esto se puede hacer en Sage con el símbolo = como en el siguiente ejemplo:\n",
    "\n",
    "In the above manipulations we have not stored any data forlater use. This can be done in Sage with the `=` symbol as in:"
   ]
  },
  {
   "cell_type": "code",
   "execution_count": null,
   "metadata": {
    "collapsed": false
   },
   "outputs": [],
   "source": [
    "a = 3\n",
    "b = 2\n",
    "print a+b"
   ]
  },
  {
   "cell_type": "markdown",
   "metadata": {},
   "source": [
    "Esto se puede entender como una evaluación de Sage de la expresión a la derecha del signo de = y creando el objeto apropiado, y luego asociando el objeto con una etiqueta, dada por el lado izquierdo (vea el principio del siguiente [tutorial](http://doc.sagemath.org/html/en/thematic_tutorials/tutorial-objects-and-classes.html) para más detalles). Varias asignaciones se pueden hacer a la vez:\n",
    "\n",
    "This can be understood as Sage evaluating the expression to the rightof the `=` sign and creating the appropriate object, and thenassociating that object with a label, given by the left-hand side (seethe foreword of [Tutorial: Objects and Classes in Python and Sage](http://doc.sagemath.org/html/en/thematic_tutorials/tutorial-objects-and-classes.html) fordetails). Multiple assignments can be done at once:"
   ]
  },
  {
   "cell_type": "code",
   "execution_count": null,
   "metadata": {
    "collapsed": false
   },
   "outputs": [],
   "source": [
    "a,b = 2,3\n",
    "print a,b"
   ]
  },
  {
   "cell_type": "markdown",
   "metadata": {},
   "source": [
    "Esto nos permite intercambiar los valores de dos variables directamente:\n",
    "\n",
    "This allows us to swap the values of two variables directly:"
   ]
  },
  {
   "cell_type": "code",
   "execution_count": null,
   "metadata": {
    "collapsed": false
   },
   "outputs": [],
   "source": [
    "a,b = 2,3\n",
    "a,b = b,a\n",
    "print a,b"
   ]
  },
  {
   "cell_type": "markdown",
   "metadata": {},
   "source": [
    "También podemos asignar un valor común a varias variables simultaneamente:\n",
    "\n",
    "We can also assign a common value to several variables simultaneously:"
   ]
  },
  {
   "cell_type": "code",
   "execution_count": null,
   "metadata": {
    "collapsed": false
   },
   "outputs": [],
   "source": [
    "c = d = 1\n",
    "c, d"
   ]
  },
  {
   "cell_type": "code",
   "execution_count": null,
   "metadata": {
    "collapsed": false
   },
   "outputs": [],
   "source": [
    "d = 2\n",
    "c, d"
   ]
  },
  {
   "cell_type": "markdown",
   "metadata": {},
   "source": [
    "Note that when we use the word *variable* in the computer-science sense wemean “a label attached to some data stored by Sage”. Once an object iscreated, some *methods* apply to it. This means *functions* but instead ofwriting **f(my\\_object)** you write **my\\_object.f()**:\n",
    "\n",
    "Note que cuando utiliar la palabra *variable* en el contexto de la informática queremos decir ¨una etiqueta sobre un pedazo de data guardado en Sage¨. Una vez un objeto es creado, algunos métodos se aplican a este. Esto quiere decir *funciones* pero en vez de escribir **f(mi\\_objeto)**escribimos **mi\\_objeto.f():**"
   ]
  },
  {
   "cell_type": "code",
   "execution_count": null,
   "metadata": {
    "collapsed": false
   },
   "outputs": [],
   "source": [
    "p = 17\n",
    "p.is_prime()"
   ]
  },
  {
   "cell_type": "markdown",
   "metadata": {},
   "source": [
    "Vea [Tutorial: Objetos y Clases en Python y Sage](http://doc.sagemath.org/html/en/thematic_tutorials/tutorial-objects-and-classes.html) para más detalles. Para saber todos los métodos de un objeto usted puede utilizar de nuevo ¨tab completion\" terminación por tab. Escriba el nombre el objeto seguido por un punto y luego presione tab:\n",
    "\n",
    "See [Tutorial: Objects and Classes in Python and Sage](http://doc.sagemath.org/html/en/thematic_tutorials/tutorial-objects-and-classes.html) for details.To know all methods of an object you can once more use tab-completion. Write thename of the object followed by a dot and then press `tab` :"
   ]
  },
  {
   "cell_type": "code",
   "execution_count": null,
   "metadata": {
    "collapsed": true
   },
   "outputs": [],
   "source": [
    "a."
   ]
  },
  {
   "cell_type": "code",
   "execution_count": null,
   "metadata": {
    "collapsed": true
   },
   "outputs": [],
   "source": [
    "# edit here"
   ]
  },
  {
   "cell_type": "markdown",
   "metadata": {},
   "source": [
    "Ejercicio B\n",
    "\n",
    "Cree la permutación 51324 y asígnele la variable p.\n",
    "\n",
    "Exercise B\n",
    "\n",
    "Create the permutation 51324 and assign it to the variable `p`."
   ]
  },
  {
   "cell_type": "code",
   "execution_count": null,
   "metadata": {
    "collapsed": true
   },
   "outputs": [],
   "source": [
    "Permutation?"
   ]
  },
  {
   "cell_type": "code",
   "execution_count": null,
   "metadata": {
    "collapsed": true
   },
   "outputs": [],
   "source": [
    "# edit here"
   ]
  },
  {
   "cell_type": "markdown",
   "metadata": {},
   "source": [
    "Cual es la inversa de p?\n",
    "\n",
    "What is the `inverse` of `p`?"
   ]
  },
  {
   "cell_type": "code",
   "execution_count": null,
   "metadata": {
    "collapsed": true
   },
   "outputs": [],
   "source": [
    "p.inv<tab>"
   ]
  },
  {
   "cell_type": "code",
   "execution_count": null,
   "metadata": {
    "collapsed": true
   },
   "outputs": [],
   "source": [
    "# edit here"
   ]
  },
  {
   "cell_type": "markdown",
   "metadata": {},
   "source": [
    "Es que p contiene el patrón 123? Y el patrón 1234? Y 312? (aun si no sabe lo que es un patrón, usted debe poder encontrar el comando para hacer esto).\n",
    "\n",
    "Does `p` have the `pattern` 123? What about 1234? And 312? (even if you don’tknow what a pattern is, you should be able to find a command that does this)."
   ]
  },
  {
   "cell_type": "code",
   "execution_count": null,
   "metadata": {
    "collapsed": true
   },
   "outputs": [],
   "source": [
    "p.pat<tab>"
   ]
  },
  {
   "cell_type": "code",
   "execution_count": null,
   "metadata": {
    "collapsed": true
   },
   "outputs": [],
   "source": [
    "# edit here"
   ]
  },
  {
   "cell_type": "markdown",
   "metadata": {},
   "source": [
    "### Algo de álgebra lineal\n",
    "\n",
    "Ejercicio C\n",
    "\n",
    "Utilice el comando matrix() para crear la siguiente matriz.\n",
    "\n",
    "$$M = \\begin{pmatrix} 10&4&1&1\\\\ 4&6&5&1\\\\ 1&5&6&4\\\\ 1&1&4&10 \\end{pmatrix}.$$\n",
    "\n",
    "## Some linear algebra\n",
    "\n",
    "Exercise C\n",
    "\n",
    "Use the `matrix()` command to create the following matrix.\n",
    "\n",
    "$$\\begin{split}M = \\left(\\begin{array}{rrrr}10 & 4 & 1 & 1 \\\\4 & 6 & 5 & 1 \\\\1 & 5 & 6 & 4 \\\\1 & 1 & 4 & 10\\end{array}\\right)\\end{split}$$"
   ]
  },
  {
   "cell_type": "code",
   "execution_count": null,
   "metadata": {
    "collapsed": true
   },
   "outputs": [],
   "source": [
    "matrix?"
   ]
  },
  {
   "cell_type": "code",
   "execution_count": null,
   "metadata": {
    "collapsed": true
   },
   "outputs": [],
   "source": [
    "# edit here"
   ]
  },
  {
   "cell_type": "markdown",
   "metadata": {},
   "source": [
    "Luego utilice métodos de la matriz,\n",
    "\n",
    "1.  Calcular el determiannte de la matriz.\n",
    "2.  Calcular la forma escalonada de la matriz.\n",
    "3.  Calcular los valores propios de la matriz.\n",
    "4.  Calcular el kernel de la matriz.\n",
    "5.  Calcular la descomposición LLL de la matriz (¡y busque la documentacion para saber que es LLL si es necesario!)\n",
    "\n",
    "Then, using methods of the matrix,\n",
    "\n",
    "1.  Compute the determinant of the matrix.\n",
    "2.  Compute the echelon form of the matrix.\n",
    "3.  Compute the eigenvalues of the matrix.\n",
    "4.  Compute the kernel of the matrix.\n",
    "5.  Compute the LLL decomposition of the matrix (and lookup thedocumentation for what LLL is if needed!)"
   ]
  },
  {
   "cell_type": "code",
   "execution_count": null,
   "metadata": {
    "collapsed": true
   },
   "outputs": [],
   "source": [
    "# edit here"
   ]
  },
  {
   "cell_type": "code",
   "execution_count": null,
   "metadata": {
    "collapsed": true
   },
   "outputs": [],
   "source": [
    "# edit here"
   ]
  },
  {
   "cell_type": "markdown",
   "metadata": {},
   "source": [
    "Ahora que tiene acceso a varios métodos de la matriz\n",
    "\n",
    "1.  Cree el vector $v=(1,-1,-1,1)$.\n",
    "2.  Calcule el producto $M\\cdot v$ y $v\\cdot M$. Que operación matématica al límite está haciendo Sage implícitamente?\n",
    "\n",
    "Now that you know how to access the different methods of matrices,\n",
    "\n",
    "1.  Create the vector v = (1,-1,-1,1) .\n",
    "2.  Compute the two products: Mcdot v and vcdot M . What mathematicallyborderline operation is Sage doing implicitly?"
   ]
  },
  {
   "cell_type": "code",
   "execution_count": null,
   "metadata": {
    "collapsed": true
   },
   "outputs": [],
   "source": [
    "vector?"
   ]
  },
  {
   "cell_type": "code",
   "execution_count": null,
   "metadata": {
    "collapsed": true
   },
   "outputs": [],
   "source": [
    "# edit here"
   ]
  },
  {
   "cell_type": "markdown",
   "metadata": {},
   "source": [
    "Nota\n",
    "\n",
    "Los vectores en Sage son vectores de fila. Un método como eigenspace puede que no entregue lo esperado, asi que es mejor especificar eigenspace\\_left ó eigenspace\\_right. Los mismo para el kernel (left\\_kernel ó right\\_kernel), ...\n",
    "\n",
    "### Algo sobre graficar\n",
    "\n",
    "El comando [plot()](../reference/plotting/sage/plot/plot.html#sage.plot.plot.plot) le permite dibujar las gráficas de funciones. Recerude que puede tener acceso a la documentación presionando la tecla tab despues de escribir plot? en una celda:\n",
    "\n",
    "Note\n",
    "\n",
    "Vectors in Sage are row vectors. A method such as `eigenspaces` might notreturn what you expect, so it is best to specify `eigenspaces_left` or`eigenspaces_right` instead. Same thing for kernel (`left_kernel` or`right_kernel`), and so on.\n",
    "\n",
    "## Some Plotting\n",
    "\n",
    "The `` `plot() `` command allows you to draw plots of functions. Recall that you can access the documentation by typing `plot?` in a cell:"
   ]
  },
  {
   "cell_type": "code",
   "execution_count": null,
   "metadata": {
    "collapsed": true
   },
   "outputs": [],
   "source": [
    "plot?"
   ]
  },
  {
   "cell_type": "code",
   "execution_count": null,
   "metadata": {
    "collapsed": true
   },
   "outputs": [],
   "source": [
    "# edit here"
   ]
  },
  {
   "cell_type": "markdown",
   "metadata": {},
   "source": [
    "Aquí hay un ejemplo simple:\n",
    "\n",
    "Here is a simple example:"
   ]
  },
  {
   "cell_type": "code",
   "execution_count": null,
   "metadata": {
    "collapsed": false
   },
   "outputs": [],
   "source": [
    "var(\"x\")   # make sure x is a symbolic variable"
   ]
  },
  {
   "cell_type": "code",
   "execution_count": null,
   "metadata": {
    "collapsed": false
   },
   "outputs": [],
   "source": [
    "plot(sin(x^2), (x,0,10))"
   ]
  },
  {
   "cell_type": "markdown",
   "metadata": {},
   "source": [
    "Aquí hay una gráfica más complicada. Intente cambiar todos los inputs del comando de graficar de alguna manera, evaluando para ver que pasa:\n",
    "\n",
    "Here is a more complicated plot. Try to change every single input to the plotcommand in some way, evaluating to see what happens:"
   ]
  },
  {
   "cell_type": "code",
   "execution_count": null,
   "metadata": {
    "collapsed": false
   },
   "outputs": [],
   "source": [
    "P = plot(sin(x^2), (x,-2,2), rgbcolor=(0.8,0,0.2), thickness=3, linestyle=\"--\", fill=\"axis\")\n",
    "show(P, gridlines=True)"
   ]
  },
  {
   "cell_type": "markdown",
   "metadata": {},
   "source": [
    "Arriba utilizamos el comando show() para mostrar la gráfica después de que fué creada. Usted puede también utilizar P.show.\n",
    "\n",
    "Above we used the `show()` command to show a plot after it was created. You canalso use `P.show` instead:"
   ]
  },
  {
   "cell_type": "code",
   "execution_count": null,
   "metadata": {
    "collapsed": false
   },
   "outputs": [],
   "source": [
    "P.show(gridlines=True)"
   ]
  },
  {
   "cell_type": "code",
   "execution_count": null,
   "metadata": {
    "collapsed": true
   },
   "outputs": [],
   "source": [
    "P.show?"
   ]
  },
  {
   "cell_type": "markdown",
   "metadata": {},
   "source": [
    "Graficar varis funciones al mismo tiempo es tan fácil como sumarlas:\n",
    "\n",
    "Plotting multiple functions at once is as easy as adding them together:"
   ]
  },
  {
   "cell_type": "code",
   "execution_count": null,
   "metadata": {
    "collapsed": false
   },
   "outputs": [],
   "source": [
    "P1 = plot(sin(x), (x,0,2*pi))\n",
    "P2 = plot(cos(x), (x,0,2*pi), rgbcolor=\"red\")\n",
    "P1 + P2"
   ]
  },
  {
   "cell_type": "markdown",
   "metadata": {},
   "source": [
    "### Expresiones Simbólicas\n",
    "\n",
    "Aqui hay un ejemplo de una función simbólica:\n",
    "\n",
    "## Symbolic Expressions\n",
    "\n",
    "Here is an example of a symbolic function:"
   ]
  },
  {
   "cell_type": "code",
   "execution_count": null,
   "metadata": {
    "collapsed": false
   },
   "outputs": [],
   "source": [
    "f(x) = x^4 - 8*x^2 - 3*x + 2\n",
    "f(x)"
   ]
  },
  {
   "cell_type": "code",
   "execution_count": null,
   "metadata": {
    "collapsed": false
   },
   "outputs": [],
   "source": [
    "f(-3)"
   ]
  },
  {
   "cell_type": "markdown",
   "metadata": {},
   "source": [
    "Este es un ejemplo de una función in la variable matemática $x$. Cuando Sage comienza, define el sìmbolo $x$ para ser una variable matemática. Si usted quiere utilizar otro símbolo como variable, debe definirlo antes:\n",
    "\n",
    "This is an example of a function in the *mathematical* variable x. When Sagestarts, it defines the symbol x to be a mathematical variable. If you wantto use other symbols for variables, you must define them first:"
   ]
  },
  {
   "cell_type": "code",
   "execution_count": null,
   "metadata": {
    "collapsed": false
   },
   "outputs": [],
   "source": [
    "x^2"
   ]
  },
  {
   "cell_type": "code",
   "execution_count": null,
   "metadata": {
    "collapsed": false
   },
   "outputs": [],
   "source": [
    "u + v"
   ]
  },
  {
   "cell_type": "code",
   "execution_count": null,
   "metadata": {
    "collapsed": false
   },
   "outputs": [],
   "source": [
    "var(\"u v\")"
   ]
  },
  {
   "cell_type": "code",
   "execution_count": null,
   "metadata": {
    "collapsed": false
   },
   "outputs": [],
   "source": [
    "u + v"
   ]
  },
  {
   "cell_type": "markdown",
   "metadata": {},
   "source": [
    "De todas maneras es posible definir funciones simbólicas sin antes definir sus variables:\n",
    "\n",
    "Still, it is possible to define symbolic functions without firstdefining their variables:"
   ]
  },
  {
   "cell_type": "code",
   "execution_count": null,
   "metadata": {
    "collapsed": false
   },
   "outputs": [],
   "source": [
    "f(w) = w^2\n",
    "f(3)"
   ]
  },
  {
   "cell_type": "markdown",
   "metadata": {},
   "source": [
    "En este caso las variables son definidas implícitamente:\n",
    "\n",
    "In this case those variables are defined implicitly:"
   ]
  },
  {
   "cell_type": "code",
   "execution_count": null,
   "metadata": {
    "collapsed": false
   },
   "outputs": [],
   "source": [
    "w"
   ]
  },
  {
   "cell_type": "markdown",
   "metadata": {},
   "source": [
    "Ejercicio D\n",
    "\n",
    "Defina la función simbólica $f(x) = x \\sin(x^2)$. Grafique $f$ en el dominio $[-3,3]$ y con color rojo. Utlice el método find\\_root() para aproximar numéricamente la raiz de $f$ en el intervalo $[1,2]$ :\n",
    "\n",
    "Exercise D\n",
    "\n",
    "Define the symbolic function f(x) = x sin(x^2). Plot f on thedomain \\[-3,3\\] and color it red. Use the ``find_root() `` _method to numerically approximate the root of f on the interval [1,2]:\n",
    "\n",
    "\n",
    "::"
   ]
  },
  {
   "cell_type": "code",
   "execution_count": null,
   "metadata": {
    "collapsed": true
   },
   "outputs": [],
   "source": []
  },
  {
   "cell_type": "code",
   "execution_count": null,
   "metadata": {
    "collapsed": true
   },
   "outputs": [],
   "source": []
  },
  {
   "cell_type": "markdown",
   "metadata": {},
   "source": [
    "Calcule la línea tangente a  :math:$f\\` en $x=1$ :\n",
    "\n",
    "Compute the tangent line to f at x=1:"
   ]
  },
  {
   "cell_type": "code",
   "execution_count": null,
   "metadata": {
    "collapsed": true
   },
   "outputs": [],
   "source": [
    "# edit here"
   ]
  },
  {
   "cell_type": "markdown",
   "metadata": {},
   "source": [
    "Grafique $f$ y la tangente a $f$ en $x=1$ en una sola imagen:\n",
    "\n",
    "Plot f and the tangent line to f at x=1 in one image:"
   ]
  },
  {
   "cell_type": "code",
   "execution_count": null,
   "metadata": {
    "collapsed": true
   },
   "outputs": [],
   "source": [
    "# edit here"
   ]
  },
  {
   "cell_type": "markdown",
   "metadata": {},
   "source": [
    "Ejercicio E (Avanzado)\n",
    "\n",
    "Resuelva la siguiente ecuación para $y$ :\n",
    "\n",
    "> $y=1+xy^2$\n",
    "\n",
    "Hay dos soluciones, tome la cual satisface $\\lim_{x\\to 0} y(x) =1$. (¡No se le olvide crear las variables $x$ y $y$!).\n",
    "\n",
    "Exercise E (Advanced)\n",
    "\n",
    "Solve the following equation for \n",
    "\n",
    "$y = 1 + x y^2$\n",
    "\n",
    "There are two solutions, take the one for which $\\lim_{x\\to 0} y(x) =1$.(Don’t forget to create the variables x and y!)."
   ]
  },
  {
   "cell_type": "code",
   "execution_count": null,
   "metadata": {
    "collapsed": true
   },
   "outputs": [],
   "source": [
    "# edit here"
   ]
  },
  {
   "cell_type": "markdown",
   "metadata": {},
   "source": [
    "Expanda $y$ como una serie de Taylor truncada en $0$ y con $n=10$ términos.\n",
    "\n",
    "Expand y as a truncated Taylor series around 0 and containingn=10 terms."
   ]
  },
  {
   "cell_type": "code",
   "execution_count": null,
   "metadata": {
    "collapsed": true
   },
   "outputs": [],
   "source": [
    "# edit here"
   ]
  },
  {
   "cell_type": "markdown",
   "metadata": {},
   "source": [
    "Es que usted reconoce los coeficientes de la serie de Taylor? Tal vez quiera utilizar la [Enciclopedia de secuencias de Enteros](http://oeis.org/) (OEIS) o mejor aún, la clase OEIS de Sage que hace consultas a la enciclopedia:\n",
    "\n",
    "Do you recognize the coefficients of the Taylor series expansion? You mightwant to use the [On-Line Encyclopedia of Integer Sequences](http://oeis.org), or better yet, Sage’s class `OEIS` whichqueries the encyclopedia:"
   ]
  },
  {
   "cell_type": "code",
   "execution_count": null,
   "metadata": {
    "collapsed": true
   },
   "outputs": [],
   "source": [
    "oeis?"
   ]
  },
  {
   "cell_type": "code",
   "execution_count": null,
   "metadata": {
    "collapsed": true
   },
   "outputs": [],
   "source": [
    "# edit here"
   ]
  },
  {
   "cell_type": "markdown",
   "metadata": {},
   "source": [
    "¡Felicitaciones por completar su primer tutorial de Sage!\n",
    "\n",
    "Congratulations for completing your first Sage tutorial!"
   ]
  },
  {
   "cell_type": "code",
   "execution_count": null,
   "metadata": {
    "collapsed": true
   },
   "outputs": [],
   "source": []
  }
 ],
 "metadata": {
  "kernelspec": {
   "display_name": "SageMath 7.5.1",
   "language": "",
   "name": "sagemath"
  },
  "language_info": {
   "codemirror_mode": {
    "name": "ipython",
    "version": 2
   },
   "file_extension": ".py",
   "mimetype": "text/x-python",
   "name": "python",
   "nbconvert_exporter": "python",
   "pygments_lexer": "ipython2",
   "version": "2.7.13"
  }
 },
 "nbformat": 4,
 "nbformat_minor": 2
}
