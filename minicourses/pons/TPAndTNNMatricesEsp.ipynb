{
 "cells": [
  {
   "cell_type": "markdown",
   "metadata": {
    "collapsed": false
   },
   "source": [
    "# Matrices en Sage\n",
    "\n",
    "Las matrices en Sage se pueden definir de la siguiente forma:"
   ]
  },
  {
   "cell_type": "code",
   "execution_count": 1,
   "metadata": {
    "collapsed": false
   },
   "outputs": [
    {
     "data": {
      "text/plain": [
       "[2 2 2]\n",
       "[2 3 4]\n",
       "[2 4 7]"
      ]
     },
     "execution_count": 1,
     "metadata": {},
     "output_type": "execute_result"
    }
   ],
   "source": [
    "m = Matrix([[2,2,2],[2,3,4],[2,4,7]])\n",
    "m"
   ]
  },
  {
   "cell_type": "markdown",
   "metadata": {
    "collapsed": false
   },
   "source": [
    "Sage es capaz de calcular algunas propiedades de matrices."
   ]
  },
  {
   "cell_type": "code",
   "execution_count": 2,
   "metadata": {
    "collapsed": false
   },
   "outputs": [
    {
     "data": {
      "text/plain": [
       "(3, 3)"
      ]
     },
     "execution_count": 2,
     "metadata": {},
     "output_type": "execute_result"
    }
   ],
   "source": [
    "m.dimensions()"
   ]
  },
  {
   "cell_type": "code",
   "execution_count": 3,
   "metadata": {
    "collapsed": false
   },
   "outputs": [
    {
     "data": {
      "text/plain": [
       "2"
      ]
     },
     "execution_count": 3,
     "metadata": {},
     "output_type": "execute_result"
    }
   ],
   "source": [
    "m.determinant()"
   ]
  },
  {
   "cell_type": "code",
   "execution_count": 4,
   "metadata": {
    "collapsed": false
   },
   "outputs": [
    {
     "data": {
      "text/plain": [
       "[0.1293258254920594?, 1.489731270709059?, 10.380942903798883?]"
      ]
     },
     "execution_count": 4,
     "metadata": {},
     "output_type": "execute_result"
    }
   ],
   "source": [
    "m.eigenvalues()"
   ]
  },
  {
   "cell_type": "code",
   "execution_count": 5,
   "metadata": {
    "collapsed": false
   },
   "outputs": [
    {
     "data": {
      "text/plain": [
       "[2 2]\n",
       "[4 7]"
      ]
     },
     "execution_count": 5,
     "metadata": {},
     "output_type": "execute_result"
    }
   ],
   "source": [
    "m.matrix_from_rows_and_columns([0,2],[1,2]) # el etiquetado de filas y columnas empieza en 0"
   ]
  },
  {
   "cell_type": "code",
   "execution_count": 6,
   "metadata": {
    "collapsed": false
   },
   "outputs": [
    {
     "data": {
      "text/plain": [
       "[2, 4, 2, 4, 10, 6, 2, 6, 5]"
      ]
     },
     "execution_count": 6,
     "metadata": {},
     "output_type": "execute_result"
    }
   ],
   "source": [
    "m.minors(2) # todas las menores 2x2"
   ]
  },
  {
   "cell_type": "markdown",
   "metadata": {
    "collapsed": false
   },
   "source": [
    "# TP y TNN\n",
    "\n",
    "La siguiente funcion usa el metodo `minors` para verificar si una matriz es TP (todas sus menores son positivas)."
   ]
  },
  {
   "cell_type": "code",
   "execution_count": 49,
   "metadata": {
    "collapsed": true
   },
   "outputs": [],
   "source": [
    "def is_TP(m):\n",
    "    \"\"\"\n",
    "    Retorna True si m es TP y False de lo contrario\n",
    "    \"\"\"\n",
    "    n = min(m.dimensions())\n",
    "    for i in range(1,n+1): # numeros de 1 a n\n",
    "        for v in m.minors(i):\n",
    "            if v <= 0:\n",
    "                return False\n",
    "    return True"
   ]
  },
  {
   "cell_type": "code",
   "execution_count": 51,
   "metadata": {
    "collapsed": true
   },
   "outputs": [],
   "source": [
    "# otra forma (mas corta) de escribir esto\n",
    "def is_TP(m):\n",
    "    n = min(m.dimensions())\n",
    "    return all(v > 0 for k in range(1,n+1) for v in m.minors(k))"
   ]
  },
  {
   "cell_type": "code",
   "execution_count": 31,
   "metadata": {
    "collapsed": false
   },
   "outputs": [],
   "source": [
    "is_TP(m)"
   ]
  },
  {
   "cell_type": "code",
   "execution_count": 34,
   "metadata": {
    "collapsed": false
   },
   "outputs": [],
   "source": [
    "m2 = Matrix([[2,2,2],[3,3,4],[2,4,4]])\n",
    "is_TP(m2)"
   ]
  },
  {
   "cell_type": "code",
   "execution_count": 52,
   "metadata": {
    "collapsed": false
   },
   "outputs": [],
   "source": [
    "m3 = Matrix([[2,2,2],[2,3,3],[2,4,5]])\n",
    "is_TP(m3)"
   ]
  },
  {
   "cell_type": "markdown",
   "metadata": {
    "collapsed": false
   },
   "source": [
    "**Ejercicio: complete la siguiente funcion que verifica si una matriz es TNN (todas sus menores son no-negativas)**"
   ]
  },
  {
   "cell_type": "code",
   "execution_count": 56,
   "metadata": {
    "collapsed": true
   },
   "outputs": [],
   "source": [
    "def is_TNN(m):\n",
    "    \"\"\"\n",
    "    Retorna True si m es TNN\n",
    "    \"\"\"\n",
    "    # edit here\n"
   ]
  },
  {
   "cell_type": "code",
   "execution_count": 53,
   "metadata": {
    "collapsed": false
   },
   "outputs": [],
   "source": [
    "m = Matrix([[2,2,2],[2,3,4],[2,4,7]])\n",
    "is_TNN(m) # deberia retornar True"
   ]
  },
  {
   "cell_type": "code",
   "execution_count": 54,
   "metadata": {
    "collapsed": false
   },
   "outputs": [],
   "source": [
    "m2 = Matrix([[2,2,2],[3,3,4],[2,4,4]])\n",
    "is_TNN(m2) # deberia retornar False"
   ]
  },
  {
   "cell_type": "code",
   "execution_count": 57,
   "metadata": {
    "collapsed": false
   },
   "outputs": [],
   "source": [
    "m3 = Matrix([[2,2,2],[2,3,3],[2,4,5]])\n",
    "is_TNN(m3) # deberia retornar True"
   ]
  },
  {
   "cell_type": "markdown",
   "metadata": {
    "collapsed": false
   },
   "source": [
    "En la clase vimos que en realidad no es necesario calcular todas las menores. Para cada entrada de la matriz, basta con calcular la menor de la submatriz solida mas grande cuya esquina sureste es la entrada en cuestion. Complete la siguiente funcion para calcular esta menor dada una entrada de la matriz.\n",
    "\n",
    "Para obtener una submatriz se puede usar el metodo `matrix_from_rows_and_columns`."
   ]
  },
  {
   "cell_type": "code",
   "execution_count": 68,
   "metadata": {
    "collapsed": true
   },
   "outputs": [],
   "source": [
    "def up_left_minor(m, i,j):\n",
    "    \"\"\"\n",
    "    Retorna la menor de la submatriz solida obtenida a partir de la entrada (i,j)\n",
    "    \"\"\"\n",
    "    # edit here\n"
   ]
  },
  {
   "cell_type": "code",
   "execution_count": 69,
   "metadata": {
    "collapsed": false
   },
   "outputs": [],
   "source": [
    "m = Matrix([[2,2,2],[2,3,4],[2,4,7]])\n",
    "m"
   ]
  },
  {
   "cell_type": "code",
   "execution_count": 70,
   "metadata": {
    "collapsed": false
   },
   "outputs": [],
   "source": [
    "up_left_minor(m,0,0) # = 2"
   ]
  },
  {
   "cell_type": "code",
   "execution_count": 71,
   "metadata": {
    "collapsed": false
   },
   "outputs": [],
   "source": [
    "up_left_minor(m,0,1) # = 2 "
   ]
  },
  {
   "cell_type": "code",
   "execution_count": 72,
   "metadata": {
    "collapsed": false
   },
   "outputs": [],
   "source": [
    "up_left_minor(m,1,1) # = 2"
   ]
  },
  {
   "cell_type": "code",
   "execution_count": 73,
   "metadata": {
    "collapsed": false
   },
   "outputs": [],
   "source": [
    "up_left_minor(m,1,2) # = 2"
   ]
  },
  {
   "cell_type": "code",
   "execution_count": 75,
   "metadata": {
    "collapsed": false
   },
   "outputs": [],
   "source": [
    "up_left_minor(m,2,2) # determinante de la matriz = 2"
   ]
  },
  {
   "cell_type": "markdown",
   "metadata": {
    "collapsed": false
   },
   "source": [
    "Reescriba la funcion `is_TP` usando su funcion `up_left_minor`"
   ]
  },
  {
   "cell_type": "code",
   "execution_count": 78,
   "metadata": {
    "collapsed": true
   },
   "outputs": [],
   "source": [
    "def is_TP(m):\n",
    "    \"\"\"\n",
    "    Retorna True si m es TP y False de lo contrario\n",
    "    \"\"\"\n",
    "    # edit here\n"
   ]
  },
  {
   "cell_type": "code",
   "execution_count": 79,
   "metadata": {
    "collapsed": false
   },
   "outputs": [],
   "source": [
    "m = Matrix([[2,2,2],[2,3,4],[2,4,7]])\n",
    "is_TP(m) # deberia retornar True"
   ]
  },
  {
   "cell_type": "code",
   "execution_count": 80,
   "metadata": {
    "collapsed": false
   },
   "outputs": [],
   "source": [
    "m2 = Matrix([[2,2,2],[3,3,4],[2,4,4]])\n",
    "is_TP(m2) # deberia retornar False"
   ]
  },
  {
   "cell_type": "code",
   "execution_count": 81,
   "metadata": {
    "collapsed": false
   },
   "outputs": [],
   "source": [
    "m3 = Matrix([[2,2,2],[2,3,3],[2,4,5]])\n",
    "is_TP(m3) # deberia retornar False"
   ]
  },
  {
   "cell_type": "markdown",
   "metadata": {
    "collapsed": false
   },
   "source": [
    "## Matrices y redes (networks en ingles)\n",
    "\n",
    "El siguiente grafo corresponde a la red que vimos en clase."
   ]
  },
  {
   "cell_type": "code",
   "execution_count": 89,
   "metadata": {
    "collapsed": true
   },
   "outputs": [],
   "source": [
    "K.<a,b,c,d,e,f,g,h> = QQ[] # anillo polinomial sobre los racionales en las variables a,b,c,d,e,f,g,h"
   ]
  },
  {
   "cell_type": "code",
   "execution_count": 92,
   "metadata": {
    "collapsed": false
   },
   "outputs": [],
   "source": [
    "G = DiGraph()\n",
    "G.add_vertices([1,2,3]) # vertices fuente (sources)\n",
    "G.add_vertices([4,5,6]) # vertices sumidero (sink -- desplazamos las etiquetas para no repetir)\n",
    "G.add_vertices([\"v\" + str(i) for i in range(8)]) # los demas vertices\n",
    "G.add_edges([(3,\"v0\",1), (\"v0\",\"v1\",f), (\"v1\",6,1)])\n",
    "G.add_edges([(3,\"v2\",a),(\"v0\",\"v3\",c),(\"v4\",\"v1\",g),(\"v5\",6,1)])\n",
    "G.add_edges([(2,\"v2\",1), (\"v2\",\"v3\",1),(\"v3\",\"v4\",e), (\"v4\",\"v5\",1), (\"v5\",5,1)])\n",
    "G.add_edges([(\"v2\",\"v6\",b),(\"v7\",\"v5\",h)])\n",
    "G.add_edges([(1,\"v6\",1), (\"v6\",\"v7\",d), (\"v7\",4,1)])\n",
    "# for nice plot\n",
    "pos = {1:(0,-2),2:(0,-1),3:(0,0),\"v0\":(1,0),\"v1\":(4,0),\"v2\":(1,-1),\"v3\":(2,-1),\"v4\":(3,-1),\"v5\":(4,-1),\"v6\":(2,-2), \"v7\":(3,-2),4:(5,-2),5:(5,-1),6:(5,0)}\n",
    "G.plot(edge_labels = True, pos = pos)"
   ]
  },
  {
   "cell_type": "markdown",
   "metadata": {
    "collapsed": false
   },
   "source": [
    "Podemos encontrar todos los caminos entre cualesquiera dos vertices."
   ]
  },
  {
   "cell_type": "code",
   "execution_count": 94,
   "metadata": {
    "collapsed": false
   },
   "outputs": [],
   "source": [
    "list(G.all_paths(2,5))"
   ]
  },
  {
   "cell_type": "markdown",
   "metadata": {
    "collapsed": false
   },
   "source": [
    "La siguiente funcion computa el producto asociado a un camino dado."
   ]
  },
  {
   "cell_type": "code",
   "execution_count": 98,
   "metadata": {
    "collapsed": true
   },
   "outputs": [],
   "source": [
    "def path_product(G,P):\n",
    "    \"\"\"\n",
    "    Computa el producto de las aristas del camino P en G\n",
    "    \"\"\"\n",
    "    p = 1\n",
    "    for i in range(len(P)-1):\n",
    "        u,v = P[i],P[i+1]\n",
    "        p*= G.edge_label(u,v)\n",
    "    return p"
   ]
  },
  {
   "cell_type": "code",
   "execution_count": 99,
   "metadata": {
    "collapsed": false
   },
   "outputs": [],
   "source": [
    "path_product(G,[2, 'v2', 'v3', 'v4', 'v5', 5])"
   ]
  },
  {
   "cell_type": "code",
   "execution_count": 100,
   "metadata": {
    "collapsed": false
   },
   "outputs": [],
   "source": [
    "path_product(G,[2, 'v2', 'v6', 'v7', 'v5', 5])"
   ]
  },
  {
   "cell_type": "markdown",
   "metadata": {
    "collapsed": false
   },
   "source": [
    "**Ejercicio : use las funciones `path_product` y `G.all_paths` para computar la matriz $3 \\times 3$ asociada a la red**."
   ]
  },
  {
   "cell_type": "markdown",
   "metadata": {
    "collapsed": false
   },
   "source": [
    "**Ejercicio (mas dificil) : construya la red para cualquier n**"
   ]
  },
  {
   "cell_type": "code",
   "execution_count": 0,
   "metadata": {
    "collapsed": true
   },
   "outputs": [],
   "source": []
  }
 ],
 "metadata": {
  "kernelspec": {
   "display_name": "SageMath 7.5.1",
   "language": "",
   "name": "sagemath"
  },
  "language_info": {
   "codemirror_mode": {
    "name": "ipython",
    "version": 2
   },
   "file_extension": ".py",
   "mimetype": "text/x-python",
   "name": "python",
   "nbconvert_exporter": "python",
   "pygments_lexer": "ipython2",
   "version": "2.7.13"
  }
 },
 "nbformat": 4,
 "nbformat_minor": 0
}
